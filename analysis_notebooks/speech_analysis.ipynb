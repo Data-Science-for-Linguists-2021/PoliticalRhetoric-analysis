{
 "cells": [
  {
   "cell_type": "markdown",
   "metadata": {},
   "source": [
    "# Part 1: RNC and DNC Speech Analysis\n",
    "* The RNC and DNC speeches are written with the intent to persuade an otherwise already persuaded audience.\n",
    "    * For example, viewers of the RNC are typically republican: \"More viewers tuned into Fox News to watch the final night of the Republican convention than any other TV network\" (https://www.wsj.com/articles/rnc-ratings-final-night-draws-23-8-million-viewers-as-trump-accepts-nomination-11598652831)\n",
    "* This analysis will include a classifier which will predict whether a test document is from a republican speaker or a democratic speaker. \n",
    "    * Goal: to see if the classifier will be able to recognize differences in the word choices of each group. Hypothesis: high accuracy. Also, see the top features.\n",
    "* Additionally, I will include a model to see if the length of the speech, the length of the sentences, the TTR, etc. has any significance on predicting between republican and democratic speeches."
   ]
  },
  {
   "cell_type": "markdown",
   "metadata": {},
   "source": [
    "## Table of Contents:\n",
    "* [First Section](#First-Section): importing all needed files and packs\n",
    "* [Second Section](#Second-Section): using svc classifier to predict R or D with text data\n",
    "* [Third Section](#Third-Section): testing out logisitic regression with presidential debate\n",
    "* [Fourth Section](#Fourth-Section): using gridsearch and cv to see the best accuracy with best parameters when certain words are cut out\n",
    "* [Fifth Section](#Fifth-Section): finding most informative features\n"
   ]
  },
  {
   "cell_type": "markdown",
   "metadata": {},
   "source": [
    "### First Section"
   ]
  },
  {
   "cell_type": "code",
   "execution_count": 1,
   "metadata": {},
   "outputs": [],
   "source": [
    "import pandas as pd\n",
    "import nltk\n",
    "import numpy as np\n",
    "import sklearn\n",
    "from sklearn.feature_extraction.text import CountVectorizer\n",
    "from sklearn.feature_extraction.text import TfidfVectorizer\n",
    "from sklearn.metrics import accuracy_score\n",
    "from sklearn.metrics import confusion_matrix\n",
    "import seaborn as sns        # seaborn graphical package\n",
    "sns.set_style('darkgrid')\n",
    "import matplotlib.pyplot as plt"
   ]
  },
  {
   "cell_type": "code",
   "execution_count": 2,
   "metadata": {},
   "outputs": [
    {
     "data": {
      "text/plain": [
       "R    30\n",
       "D    21\n",
       "Name: Aff, dtype: int64"
      ]
     },
     "execution_count": 2,
     "metadata": {},
     "output_type": "execute_result"
    }
   ],
   "source": [
    "conv_speeches = pd.read_csv(\"/Users/emmatarcson/Documents/data_science/RhetoricalFactor-analysis/data_sample/convspeeches.csv\")\n",
    "conv_speeches = conv_speeches[['Aff','Speech']]\n",
    "conv_speeches.Aff.value_counts()"
   ]
  },
  {
   "cell_type": "markdown",
   "metadata": {},
   "source": [
    "### Second Section"
   ]
  },
  {
   "cell_type": "code",
   "execution_count": 3,
   "metadata": {},
   "outputs": [],
   "source": [
    "from sklearn.model_selection import train_test_split\n",
    "X_train, X_test, y_train, y_test = train_test_split(conv_speeches['Speech'], conv_speeches['Aff'], random_state=0,\n",
    "                                  train_size=0.6) "
   ]
  },
  {
   "cell_type": "code",
   "execution_count": 4,
   "metadata": {},
   "outputs": [],
   "source": [
    "vectorizer = TfidfVectorizer(min_df=1, max_features=2000, stop_words='english')\n",
    "\n",
    "X_text_train = vectorizer.fit_transform(X_train)\n"
   ]
  },
  {
   "cell_type": "code",
   "execution_count": 5,
   "metadata": {},
   "outputs": [],
   "source": [
    "X_text_test = vectorizer.transform(X_test)"
   ]
  },
  {
   "cell_type": "code",
   "execution_count": 6,
   "metadata": {},
   "outputs": [
    {
     "data": {
      "text/plain": [
       "SVC(C=100000.0, kernel='linear')"
      ]
     },
     "execution_count": 6,
     "metadata": {},
     "output_type": "execute_result"
    }
   ],
   "source": [
    "from sklearn.svm import SVC \n",
    "svcmodel = SVC(kernel='linear', C=1E5)  \n",
    "svcmodel.fit(X_text_train, y_train)"
   ]
  },
  {
   "cell_type": "code",
   "execution_count": 7,
   "metadata": {},
   "outputs": [],
   "source": [
    "pred = svcmodel.predict(X_text_test)"
   ]
  },
  {
   "cell_type": "code",
   "execution_count": 8,
   "metadata": {},
   "outputs": [
    {
     "data": {
      "text/plain": [
       "0.9523809523809523"
      ]
     },
     "execution_count": 8,
     "metadata": {},
     "output_type": "execute_result"
    }
   ],
   "source": [
    "accuracy_score(y_test, pred)"
   ]
  },
  {
   "cell_type": "code",
   "execution_count": 9,
   "metadata": {},
   "outputs": [
    {
     "name": "stderr",
     "output_type": "stream",
     "text": [
      "/Users/emmatarcson/opt/anaconda3/lib/python3.8/site-packages/sklearn/utils/validation.py:67: FutureWarning: Pass labels=['D', 'R'] as keyword args. From version 0.25 passing these as positional arguments will result in an error\n",
      "  warnings.warn(\"Pass {} as keyword args. From version 0.25 \"\n"
     ]
    },
    {
     "data": {
      "image/png": "[encoded data removed]",
      "text/plain": [
       "<Figure size 432x288 with 2 Axes>"
      ]
     },
     "metadata": {},
     "output_type": "display_data"
    }
   ],
   "source": [
    "from sklearn.metrics import confusion_matrix\n",
    "labels = ['D','R']\n",
    "mat = confusion_matrix(y_test, pred, labels)\n",
    "sns.heatmap(mat, square=True, annot=True, fmt='d', cmap=\"Reds\",\n",
    "           xticklabels=labels, yticklabels=labels)\n",
    "plt.xlabel('predicted label')\n",
    "plt.ylabel('true label')\n",
    "plt.show()"
   ]
  },
  {
   "cell_type": "markdown",
   "metadata": {},
   "source": [
    "* So there is one instance of it guessing Democratic, instead of Republican in the test set. \n",
    "* this makes me wonder if there is some super significant word in these speeches that is causing this, but vvv\n",
    "* That being said, I did expect a higher accuracy from the speeches"
   ]
  },
  {
   "cell_type": "markdown",
   "metadata": {},
   "source": [
    "### Third Section"
   ]
  },
  {
   "cell_type": "code",
   "execution_count": 10,
   "metadata": {},
   "outputs": [
    {
     "data": {
      "text/html": [
       "<div>\n",
       "<style scoped>\n",
       "    .dataframe tbody tr th:only-of-type {\n",
       "        vertical-align: middle;\n",
       "    }\n",
       "\n",
       "    .dataframe tbody tr th {\n",
       "        vertical-align: top;\n",
       "    }\n",
       "\n",
       "    .dataframe thead th {\n",
       "        text-align: right;\n",
       "    }\n",
       "</style>\n",
       "<table border=\"1\" class=\"dataframe\">\n",
       "  <thead>\n",
       "    <tr style=\"text-align: right;\">\n",
       "      <th></th>\n",
       "      <th>Aff</th>\n",
       "      <th>Speech</th>\n",
       "      <th>Toks</th>\n",
       "      <th>Token_count</th>\n",
       "      <th>Type_count</th>\n",
       "      <th>TTR</th>\n",
       "    </tr>\n",
       "  </thead>\n",
       "  <tbody>\n",
       "    <tr>\n",
       "      <th>0</th>\n",
       "      <td>D</td>\n",
       "      <td>Good evening and thank you to everyone here to...</td>\n",
       "      <td>[good, evening, and, thank, you, to, everyone,...</td>\n",
       "      <td>193</td>\n",
       "      <td>118</td>\n",
       "      <td>0.611399</td>\n",
       "    </tr>\n",
       "    <tr>\n",
       "      <th>1</th>\n",
       "      <td>D</td>\n",
       "      <td>We climbed the impossible mountain, and right ...</td>\n",
       "      <td>[we, climbed, the, impossible, mountain, and, ...</td>\n",
       "      <td>750</td>\n",
       "      <td>326</td>\n",
       "      <td>0.434667</td>\n",
       "    </tr>\n",
       "    <tr>\n",
       "      <th>2</th>\n",
       "      <td>D</td>\n",
       "      <td>Hello, America. I'm Andrew Yang. You might kno...</td>\n",
       "      <td>[hello, america, im, andrew, yang, you, might,...</td>\n",
       "      <td>428</td>\n",
       "      <td>214</td>\n",
       "      <td>0.500000</td>\n",
       "    </tr>\n",
       "    <tr>\n",
       "      <th>3</th>\n",
       "      <td>D</td>\n",
       "      <td>Good evening everybody. As you've seen by now ...</td>\n",
       "      <td>[good, evening, everybody, as, youve, seen, by...</td>\n",
       "      <td>2278</td>\n",
       "      <td>795</td>\n",
       "      <td>0.348990</td>\n",
       "    </tr>\n",
       "    <tr>\n",
       "      <th>4</th>\n",
       "      <td>D</td>\n",
       "      <td>Good evening. Our great nation is now living i...</td>\n",
       "      <td>[good, evening, our, great, nation, is, now, l...</td>\n",
       "      <td>982</td>\n",
       "      <td>440</td>\n",
       "      <td>0.448065</td>\n",
       "    </tr>\n",
       "  </tbody>\n",
       "</table>\n",
       "</div>"
      ],
      "text/plain": [
       "  Aff                                             Speech  \\\n",
       "0   D  Good evening and thank you to everyone here to...   \n",
       "1   D  We climbed the impossible mountain, and right ...   \n",
       "2   D  Hello, America. I'm Andrew Yang. You might kno...   \n",
       "3   D  Good evening everybody. As you've seen by now ...   \n",
       "4   D  Good evening. Our great nation is now living i...   \n",
       "\n",
       "                                                Toks  Token_count  Type_count  \\\n",
       "0  [good, evening, and, thank, you, to, everyone,...          193         118   \n",
       "1  [we, climbed, the, impossible, mountain, and, ...          750         326   \n",
       "2  [hello, america, im, andrew, yang, you, might,...          428         214   \n",
       "3  [good, evening, everybody, as, youve, seen, by...         2278         795   \n",
       "4  [good, evening, our, great, nation, is, now, l...          982         440   \n",
       "\n",
       "        TTR  \n",
       "0  0.611399  \n",
       "1  0.434667  \n",
       "2  0.500000  \n",
       "3  0.348990  \n",
       "4  0.448065  "
      ]
     },
     "execution_count": 10,
     "metadata": {},
     "output_type": "execute_result"
    }
   ],
   "source": [
    "import re\n",
    "trans_toks = [nltk.word_tokenize(re.sub(r'[^\\w+ ]', '', t.lower())) for t in conv_speeches['Speech']]\n",
    "trans_tok_lens = [len(t) for t in trans_toks]\n",
    "trans_type_lens = [len(set(t)) for t in trans_toks]\n",
    "TTR = [len(set(t))/len(t) for t in trans_toks]\n",
    "\n",
    "conv_speeches['Toks'] = trans_toks\n",
    "conv_speeches['Token_count'] = trans_tok_lens\n",
    "conv_speeches['Type_count'] = trans_type_lens\n",
    "conv_speeches['TTR'] = TTR\n",
    "conv_speeches.head()"
   ]
  },
  {
   "cell_type": "code",
   "execution_count": 11,
   "metadata": {},
   "outputs": [
    {
     "data": {
      "text/html": [
       "<div>\n",
       "<style scoped>\n",
       "    .dataframe tbody tr th:only-of-type {\n",
       "        vertical-align: middle;\n",
       "    }\n",
       "\n",
       "    .dataframe tbody tr th {\n",
       "        vertical-align: top;\n",
       "    }\n",
       "\n",
       "    .dataframe thead th {\n",
       "        text-align: right;\n",
       "    }\n",
       "</style>\n",
       "<table border=\"1\" class=\"dataframe\">\n",
       "  <thead>\n",
       "    <tr style=\"text-align: right;\">\n",
       "      <th></th>\n",
       "      <th>Aff</th>\n",
       "      <th>Speech</th>\n",
       "      <th>Toks</th>\n",
       "      <th>Token_count</th>\n",
       "      <th>Type_count</th>\n",
       "      <th>TTR</th>\n",
       "      <th>SentAmt</th>\n",
       "      <th>AVGSENTLEN</th>\n",
       "    </tr>\n",
       "  </thead>\n",
       "  <tbody>\n",
       "    <tr>\n",
       "      <th>0</th>\n",
       "      <td>D</td>\n",
       "      <td>Good evening and thank you to everyone here to...</td>\n",
       "      <td>[good, evening, and, thank, you, to, everyone,...</td>\n",
       "      <td>193</td>\n",
       "      <td>118</td>\n",
       "      <td>0.611399</td>\n",
       "      <td>5</td>\n",
       "      <td>38.600000</td>\n",
       "    </tr>\n",
       "    <tr>\n",
       "      <th>1</th>\n",
       "      <td>D</td>\n",
       "      <td>We climbed the impossible mountain, and right ...</td>\n",
       "      <td>[we, climbed, the, impossible, mountain, and, ...</td>\n",
       "      <td>750</td>\n",
       "      <td>326</td>\n",
       "      <td>0.434667</td>\n",
       "      <td>55</td>\n",
       "      <td>13.636364</td>\n",
       "    </tr>\n",
       "    <tr>\n",
       "      <th>2</th>\n",
       "      <td>D</td>\n",
       "      <td>Hello, America. I'm Andrew Yang. You might kno...</td>\n",
       "      <td>[hello, america, im, andrew, yang, you, might,...</td>\n",
       "      <td>428</td>\n",
       "      <td>214</td>\n",
       "      <td>0.500000</td>\n",
       "      <td>25</td>\n",
       "      <td>17.120000</td>\n",
       "    </tr>\n",
       "    <tr>\n",
       "      <th>3</th>\n",
       "      <td>D</td>\n",
       "      <td>Good evening everybody. As you've seen by now ...</td>\n",
       "      <td>[good, evening, everybody, as, youve, seen, by...</td>\n",
       "      <td>2278</td>\n",
       "      <td>795</td>\n",
       "      <td>0.348990</td>\n",
       "      <td>102</td>\n",
       "      <td>22.333333</td>\n",
       "    </tr>\n",
       "    <tr>\n",
       "      <th>4</th>\n",
       "      <td>D</td>\n",
       "      <td>Good evening. Our great nation is now living i...</td>\n",
       "      <td>[good, evening, our, great, nation, is, now, l...</td>\n",
       "      <td>982</td>\n",
       "      <td>440</td>\n",
       "      <td>0.448065</td>\n",
       "      <td>44</td>\n",
       "      <td>22.318182</td>\n",
       "    </tr>\n",
       "  </tbody>\n",
       "</table>\n",
       "</div>"
      ],
      "text/plain": [
       "  Aff                                             Speech  \\\n",
       "0   D  Good evening and thank you to everyone here to...   \n",
       "1   D  We climbed the impossible mountain, and right ...   \n",
       "2   D  Hello, America. I'm Andrew Yang. You might kno...   \n",
       "3   D  Good evening everybody. As you've seen by now ...   \n",
       "4   D  Good evening. Our great nation is now living i...   \n",
       "\n",
       "                                                Toks  Token_count  Type_count  \\\n",
       "0  [good, evening, and, thank, you, to, everyone,...          193         118   \n",
       "1  [we, climbed, the, impossible, mountain, and, ...          750         326   \n",
       "2  [hello, america, im, andrew, yang, you, might,...          428         214   \n",
       "3  [good, evening, everybody, as, youve, seen, by...         2278         795   \n",
       "4  [good, evening, our, great, nation, is, now, l...          982         440   \n",
       "\n",
       "        TTR  SentAmt  AVGSENTLEN  \n",
       "0  0.611399        5   38.600000  \n",
       "1  0.434667       55   13.636364  \n",
       "2  0.500000       25   17.120000  \n",
       "3  0.348990      102   22.333333  \n",
       "4  0.448065       44   22.318182  "
      ]
     },
     "execution_count": 11,
     "metadata": {},
     "output_type": "execute_result"
    }
   ],
   "source": [
    "sents = [len(nltk.sent_tokenize(t)) for t in conv_speeches['Speech']]\n",
    "\n",
    "conv_speeches['SentAmt'] = sents\n",
    "conv_speeches['AVGSENTLEN'] = conv_speeches.Token_count/conv_speeches.SentAmt\n",
    "conv_speeches.head()"
   ]
  },
  {
   "cell_type": "code",
   "execution_count": 12,
   "metadata": {},
   "outputs": [
    {
     "data": {
      "text/plain": [
       "0.45454545454545453"
      ]
     },
     "execution_count": 12,
     "metadata": {},
     "output_type": "execute_result"
    }
   ],
   "source": [
    "# building logistic regression\n",
    "from sklearn.linear_model import LogisticRegression \n",
    "X = conv_speeches[['Token_count', 'Type_count', 'TTR', 'SentAmt', 'AVGSENTLEN']]\n",
    "y = conv_speeches['Aff']\n",
    "X_train, X_test, y_train, y_test = train_test_split(X, y, test_size=0.2, random_state=0, stratify=y)\n",
    "\n",
    "\n",
    "lr_model = LogisticRegression(C = 1, class_weight= None, penalty='l2')   # default setting\n",
    "lr_model.fit(X_train, y_train)\n",
    "y_pred = lr_model.predict(X_test)\n",
    "accuracy_score(y_test, y_pred) \n"
   ]
  },
  {
   "cell_type": "markdown",
   "metadata": {},
   "source": [
    "Interesting, so for speeches, the svc classifier was almost 100% positive about the Affiliation, but the format of the speeches didn't play a big role. This might actually help my hypothesis in that speeches were more directed at known audience and so they were more polarizing, but the actually makings of the speeches were not as distinguishable."
   ]
  },
  {
   "cell_type": "markdown",
   "metadata": {},
   "source": [
    "### Fourth Section"
   ]
  },
  {
   "cell_type": "code",
   "execution_count": 13,
   "metadata": {},
   "outputs": [],
   "source": [
    "banned = ['Republican', 'Democrat', 'Republicans', 'Democrats']\n",
    "f = lambda x: ' '.join([item for item in x.split() if item not in banned])\n",
    "conv_speeches[\"Speech2\"] = conv_speeches[\"Speech\"].apply(f)"
   ]
  },
  {
   "cell_type": "code",
   "execution_count": 14,
   "metadata": {},
   "outputs": [
    {
     "data": {
      "text/html": [
       "<div>\n",
       "<style scoped>\n",
       "    .dataframe tbody tr th:only-of-type {\n",
       "        vertical-align: middle;\n",
       "    }\n",
       "\n",
       "    .dataframe tbody tr th {\n",
       "        vertical-align: top;\n",
       "    }\n",
       "\n",
       "    .dataframe thead th {\n",
       "        text-align: right;\n",
       "    }\n",
       "</style>\n",
       "<table border=\"1\" class=\"dataframe\">\n",
       "  <thead>\n",
       "    <tr style=\"text-align: right;\">\n",
       "      <th></th>\n",
       "      <th>Aff</th>\n",
       "      <th>Speech</th>\n",
       "      <th>Toks</th>\n",
       "      <th>Token_count</th>\n",
       "      <th>Type_count</th>\n",
       "      <th>TTR</th>\n",
       "      <th>SentAmt</th>\n",
       "      <th>AVGSENTLEN</th>\n",
       "      <th>Speech2</th>\n",
       "    </tr>\n",
       "  </thead>\n",
       "  <tbody>\n",
       "    <tr>\n",
       "      <th>0</th>\n",
       "      <td>D</td>\n",
       "      <td>Good evening and thank you to everyone here to...</td>\n",
       "      <td>[good, evening, and, thank, you, to, everyone,...</td>\n",
       "      <td>193</td>\n",
       "      <td>118</td>\n",
       "      <td>0.611399</td>\n",
       "      <td>5</td>\n",
       "      <td>38.600000</td>\n",
       "      <td>Good evening and thank you to everyone here to...</td>\n",
       "    </tr>\n",
       "    <tr>\n",
       "      <th>1</th>\n",
       "      <td>D</td>\n",
       "      <td>We climbed the impossible mountain, and right ...</td>\n",
       "      <td>[we, climbed, the, impossible, mountain, and, ...</td>\n",
       "      <td>750</td>\n",
       "      <td>326</td>\n",
       "      <td>0.434667</td>\n",
       "      <td>55</td>\n",
       "      <td>13.636364</td>\n",
       "      <td>We climbed the impossible mountain, and right ...</td>\n",
       "    </tr>\n",
       "    <tr>\n",
       "      <th>2</th>\n",
       "      <td>D</td>\n",
       "      <td>Hello, America. I'm Andrew Yang. You might kno...</td>\n",
       "      <td>[hello, america, im, andrew, yang, you, might,...</td>\n",
       "      <td>428</td>\n",
       "      <td>214</td>\n",
       "      <td>0.500000</td>\n",
       "      <td>25</td>\n",
       "      <td>17.120000</td>\n",
       "      <td>Hello, America. I'm Andrew Yang. You might kno...</td>\n",
       "    </tr>\n",
       "    <tr>\n",
       "      <th>3</th>\n",
       "      <td>D</td>\n",
       "      <td>Good evening everybody. As you've seen by now ...</td>\n",
       "      <td>[good, evening, everybody, as, youve, seen, by...</td>\n",
       "      <td>2278</td>\n",
       "      <td>795</td>\n",
       "      <td>0.348990</td>\n",
       "      <td>102</td>\n",
       "      <td>22.333333</td>\n",
       "      <td>Good evening everybody. As you've seen by now ...</td>\n",
       "    </tr>\n",
       "    <tr>\n",
       "      <th>4</th>\n",
       "      <td>D</td>\n",
       "      <td>Good evening. Our great nation is now living i...</td>\n",
       "      <td>[good, evening, our, great, nation, is, now, l...</td>\n",
       "      <td>982</td>\n",
       "      <td>440</td>\n",
       "      <td>0.448065</td>\n",
       "      <td>44</td>\n",
       "      <td>22.318182</td>\n",
       "      <td>Good evening. Our great nation is now living i...</td>\n",
       "    </tr>\n",
       "  </tbody>\n",
       "</table>\n",
       "</div>"
      ],
      "text/plain": [
       "  Aff                                             Speech  \\\n",
       "0   D  Good evening and thank you to everyone here to...   \n",
       "1   D  We climbed the impossible mountain, and right ...   \n",
       "2   D  Hello, America. I'm Andrew Yang. You might kno...   \n",
       "3   D  Good evening everybody. As you've seen by now ...   \n",
       "4   D  Good evening. Our great nation is now living i...   \n",
       "\n",
       "                                                Toks  Token_count  Type_count  \\\n",
       "0  [good, evening, and, thank, you, to, everyone,...          193         118   \n",
       "1  [we, climbed, the, impossible, mountain, and, ...          750         326   \n",
       "2  [hello, america, im, andrew, yang, you, might,...          428         214   \n",
       "3  [good, evening, everybody, as, youve, seen, by...         2278         795   \n",
       "4  [good, evening, our, great, nation, is, now, l...          982         440   \n",
       "\n",
       "        TTR  SentAmt  AVGSENTLEN  \\\n",
       "0  0.611399        5   38.600000   \n",
       "1  0.434667       55   13.636364   \n",
       "2  0.500000       25   17.120000   \n",
       "3  0.348990      102   22.333333   \n",
       "4  0.448065       44   22.318182   \n",
       "\n",
       "                                             Speech2  \n",
       "0  Good evening and thank you to everyone here to...  \n",
       "1  We climbed the impossible mountain, and right ...  \n",
       "2  Hello, America. I'm Andrew Yang. You might kno...  \n",
       "3  Good evening everybody. As you've seen by now ...  \n",
       "4  Good evening. Our great nation is now living i...  "
      ]
     },
     "execution_count": 14,
     "metadata": {},
     "output_type": "execute_result"
    }
   ],
   "source": [
    "conv_speeches.head()"
   ]
  },
  {
   "cell_type": "code",
   "execution_count": 15,
   "metadata": {},
   "outputs": [
    {
     "data": {
      "text/plain": [
       "GridSearchCV(cv=5,\n",
       "             estimator=Pipeline(steps=[('tfidf', TfidfVectorizer()),\n",
       "                                       ('svc', SVC())]),\n",
       "             n_jobs=3,\n",
       "             param_grid={'svc__C': [100000.0], 'svc__gamma': [1],\n",
       "                         'svc__kernel': ['linear'],\n",
       "                         'tfidf__max_features': [1000, 2000, 3000],\n",
       "                         'tfidf__stop_words': ['english', None]})"
      ]
     },
     "execution_count": 15,
     "metadata": {},
     "output_type": "execute_result"
    }
   ],
   "source": [
    "from sklearn.pipeline import Pipeline\n",
    "from sklearn.feature_extraction.text import TfidfVectorizer\n",
    "from sklearn.svm import SVC \n",
    "from sklearn.model_selection import GridSearchCV\n",
    "\n",
    "x = conv_speeches.Speech2[:1000] \n",
    "y = conv_speeches.Aff[:1000]\n",
    "\n",
    "tfidf_model = TfidfVectorizer()\n",
    "svc_model = SVC()\n",
    "\n",
    "\n",
    "pipe = Pipeline(steps=[('tfidf', tfidf_model), ('svc', svc_model)])\n",
    "\n",
    "param_grid = {\n",
    "    'tfidf__max_features': [1000, 2000, 3000],        \n",
    "    'tfidf__stop_words': ['english', None],\n",
    "    'svc__C': [1E5],\n",
    "    'svc__kernel' : ['linear'],\n",
    "    'svc__gamma' : [1]\n",
    "}                           \n",
    "\n",
    "search = GridSearchCV(pipe, param_grid, n_jobs=3, cv=5) \n",
    "search.fit(x, y)"
   ]
  },
  {
   "cell_type": "code",
   "execution_count": 16,
   "metadata": {},
   "outputs": [
    {
     "name": "stdout",
     "output_type": "stream",
     "text": [
      "best parameters: {'svc__C': 100000.0, 'svc__gamma': 1, 'svc__kernel': 'linear', 'tfidf__max_features': 2000, 'tfidf__stop_words': None}\n",
      "best mean accuracy: 0.9800000000000001\n"
     ]
    }
   ],
   "source": [
    "print('best parameters:', search.best_params_)     # best-performing parameter combo\n",
    "print('best mean accuracy:', search.best_score_)"
   ]
  },
  {
   "cell_type": "markdown",
   "metadata": {},
   "source": [
    "### Fifth Section"
   ]
  },
  {
   "cell_type": "markdown",
   "metadata": {},
   "source": [
    "first: trying [tobigue's](https://stackoverflow.com/questions/11116697/how-to-get-most-informative-features-for-scikit-learn-classifiers) code for an sklearn binary case informative features search:"
   ]
  },
  {
   "cell_type": "code",
   "execution_count": 17,
   "metadata": {},
   "outputs": [
    {
     "ename": "NameError",
     "evalue": "name 'MultinomialNB' is not defined",
     "output_type": "error",
     "traceback": [
      "\u001b[0;31m---------------------------------------------------------------------------\u001b[0m",
      "\u001b[0;31mNameError\u001b[0m                                 Traceback (most recent call last)",
      "\u001b[0;32m<ipython-input-17-1bf9019ec4b9>\u001b[0m in \u001b[0;36m<module>\u001b[0;34m\u001b[0m\n\u001b[1;32m      2\u001b[0m X_train, X_test, y_train, y_test = train_test_split(conv_speeches['Speech'], conv_speeches['Aff'], random_state=0,\n\u001b[1;32m      3\u001b[0m                                   train_size=0.6)\n\u001b[0;32m----> 4\u001b[0;31m \u001b[0mnbmodel\u001b[0m \u001b[0;34m=\u001b[0m \u001b[0mMultinomialNB\u001b[0m\u001b[0;34m(\u001b[0m\u001b[0;34m)\u001b[0m\u001b[0;34m\u001b[0m\u001b[0;34m\u001b[0m\u001b[0m\n\u001b[0m\u001b[1;32m      5\u001b[0m \u001b[0mvectorizer\u001b[0m \u001b[0;34m=\u001b[0m \u001b[0mTfidfVectorizer\u001b[0m\u001b[0;34m(\u001b[0m\u001b[0mmax_df\u001b[0m\u001b[0;34m=\u001b[0m\u001b[0;36m0.5\u001b[0m\u001b[0;34m,\u001b[0m \u001b[0mmin_df\u001b[0m\u001b[0;34m=\u001b[0m\u001b[0;36m2\u001b[0m\u001b[0;34m,\u001b[0m\u001b[0mmax_features\u001b[0m\u001b[0;34m=\u001b[0m\u001b[0;36m1500\u001b[0m\u001b[0;34m,\u001b[0m \u001b[0mstop_words\u001b[0m\u001b[0;34m=\u001b[0m\u001b[0;34m'english'\u001b[0m\u001b[0;34m)\u001b[0m \u001b[0;31m#using this to find vocab\u001b[0m\u001b[0;34m\u001b[0m\u001b[0;34m\u001b[0m\u001b[0m\n\u001b[1;32m      6\u001b[0m \u001b[0mX_text_train\u001b[0m \u001b[0;34m=\u001b[0m \u001b[0mvectorizer\u001b[0m\u001b[0;34m.\u001b[0m\u001b[0mfit_transform\u001b[0m\u001b[0;34m(\u001b[0m\u001b[0mX_train\u001b[0m\u001b[0;34m)\u001b[0m\u001b[0;34m\u001b[0m\u001b[0;34m\u001b[0m\u001b[0m\n",
      "\u001b[0;31mNameError\u001b[0m: name 'MultinomialNB' is not defined"
     ]
    }
   ],
   "source": [
    "from sklearn.naive_bayes import MultinomialNB\n",
    "from sklearn.model_selection import train_test_split\n",
    "X_train, X_test, y_train, y_test = train_test_split(conv_speeches['Speech'], conv_speeches['Aff'], random_state=0,\n",
    "                                  train_size=0.6)\n",
    "nbmodel = MultinomialNB()\n",
    "vectorizer = TfidfVectorizer(max_df=0.5, min_df=2,max_features=1500, stop_words='english') #using this to find vocab\n",
    "X_text_train = vectorizer.fit_transform(X_train)\n",
    "X_text_test = vectorizer.transform(X_test)\n",
    "\n",
    "\n",
    "nbmodel.fit(X_text_train, y_train)\n",
    "pred = nbmodel.predict(X_text_test)\n",
    "\n",
    "def show_most_informative_features(vectorizer, clf, n=20):\n",
    "    feature_names = vectorizer.get_feature_names()\n",
    "    coefs_with_fns = sorted(zip(clf.coef_[0], feature_names))\n",
    "    top = zip(coefs_with_fns[:n], coefs_with_fns[:-(n + 1):-1])\n",
    "    for (coef_1, fn_1), (coef_2, fn_2) in top:\n",
    "        print(\"\\t%.4f\\t%-15s\\t\\t%.4f\\t%-15s\" % (coef_1, fn_1, coef_2, fn_2))\n",
    "\n",
    "show_most_informative_features(vectorizer, nbmodel)"
   ]
  },
  {
   "cell_type": "markdown",
   "metadata": {},
   "source": [
    "As you can see, it looks a little iffy (especially that left side). Apparently, it's because the nbmodel coefficient concatenates and merges into one array for binary cases. Seen below. "
   ]
  },
  {
   "cell_type": "code",
   "execution_count": null,
   "metadata": {},
   "outputs": [],
   "source": [
    "nbmodel.coef_"
   ]
  },
  {
   "cell_type": "markdown",
   "metadata": {},
   "source": [
    "Because of this, I decided to just add in a neutral affiliation with just a \".\" as the Speech text."
   ]
  },
  {
   "cell_type": "code",
   "execution_count": null,
   "metadata": {},
   "outputs": [],
   "source": [
    "import numpy as np\n",
    "from sklearn.naive_bayes import MultinomialNB\n",
    "neutral = pd.DataFrame({'Aff' : 'None', 'Speech': '.'}, index=[1])\n",
    "conv2 = conv_speeches[['Aff', 'Speech']]\n",
    "conv2 = pd.concat([conv2, neutral])\n",
    "conv2.tail()"
   ]
  },
  {
   "cell_type": "code",
   "execution_count": null,
   "metadata": {},
   "outputs": [],
   "source": [
    "from sklearn.model_selection import train_test_split\n",
    "X_train, X_test, y_train, y_test = train_test_split(conv2['Speech'], conv2['Aff'], random_state=0,\n",
    "                                  train_size=0.6)\n",
    "nbmodel = MultinomialNB()\n",
    "vectorizer = TfidfVectorizer(max_df=0.5, min_df=2,max_features=1500, stop_words='english') #using this to find vocab\n",
    "X_text_train = vectorizer.fit_transform(X_train)\n",
    "X_text_test = vectorizer.transform(X_test)\n",
    "\n",
    "\n",
    "nbmodel.fit(X_text_train, y_train)\n",
    "pred = nbmodel.predict(X_text_test)"
   ]
  },
  {
   "cell_type": "code",
   "execution_count": null,
   "metadata": {},
   "outputs": [],
   "source": [
    "nbmodel.coef_"
   ]
  },
  {
   "cell_type": "markdown",
   "metadata": {},
   "source": [
    "As you can see, there are three coefficent lists in the array, which allows me to use the important feature function that uses highest coefficent values."
   ]
  },
  {
   "cell_type": "code",
   "execution_count": null,
   "metadata": {},
   "outputs": [],
   "source": [
    "def print_top(vectorizer, clf, class_labels, n):\n",
    "    \"\"\"Prints features with the highest coefficient values, per class\"\"\"\n",
    "    feature_names = vectorizer.get_feature_names()\n",
    "    for i, class_label in enumerate(class_labels):\n",
    "        top = np.argsort(clf.coef_[i])[0-n:]\n",
    "        print(\"%s: %s\" % (class_label,\n",
    "              \", \".join(feature_names[j].replace(' ', '-') for j in top)))\n",
    "    \n",
    "\n",
    "print_top(vectorizer, nbmodel, nbmodel.classes_, 60)"
   ]
  },
  {
   "cell_type": "code",
   "execution_count": null,
   "metadata": {},
   "outputs": [],
   "source": [
    "from sklearn.model_selection import train_test_split\n",
    "X_train, X_test, y_train, y_test = train_test_split(conv_speeches['Speech'], conv_speeches['Aff'], random_state=0,\n",
    "                                  train_size=0.6)\n",
    "nbmodel = MultinomialNB()\n",
    "vectorizer = TfidfVectorizer(max_df=0.5, min_df=2,max_features=1500, stop_words='english') #using this to find vocab\n",
    "X_text_train = vectorizer.fit_transform(X_train)\n",
    "X_text_test = vectorizer.transform(X_test)\n",
    "\n",
    "\n",
    "nbmodel.fit(X_text_train, y_train)\n",
    "pred = nbmodel.predict(X_text_test)\n",
    "\n",
    "def print_top2(vectorizer, clf, class_labels, n):\n",
    "    \"\"\"Prints features with the highest coefficient values, per class\"\"\"\n",
    "    feature_names = vectorizer.get_feature_names()\n",
    "    for i, class_label in enumerate(class_labels):\n",
    "        top = np.argsort(clf.coef_[:750])[0-n:]\n",
    "        print(\"%s: %s\" % (class_label,\n",
    "              \", \".join(feature_names[j].replace(' ', '-') for j in top)))\n",
    "    \n",
    "\n",
    "print_top(vectorizer, nbmodel, nbmodel.classes_[0], 60)"
   ]
  },
  {
   "cell_type": "code",
   "execution_count": null,
   "metadata": {},
   "outputs": [],
   "source": [
    "nbmodel.coef_[]"
   ]
  },
  {
   "cell_type": "code",
   "execution_count": null,
   "metadata": {},
   "outputs": [],
   "source": [
    "def print_top2(vectorizer, clf, class_labels, n):\n",
    "    \"\"\"Prints features with the highest coefficient values, per class\"\"\"\n",
    "    feature_names = vectorizer.get_feature_names()\n",
    "    for i, class_label in enumerate(class_labels):\n",
    "        top = np.argsort(clf.coef_[i][:750])[0-n:]\n",
    "        print(\"%s: %s\" % (class_label,\n",
    "              \", \".join(feature_names[j].replace(' ', '-') for j in top)))\n",
    "    \n",
    "\n",
    "print_top(vectorizer, nbmodel, nbmodel.classes_[1], 60)"
   ]
  },
  {
   "cell_type": "code",
   "execution_count": null,
   "metadata": {},
   "outputs": [],
   "source": []
  }
 ],
 "metadata": {
  "kernelspec": {
   "display_name": "Python 3",
   "language": "python",
   "name": "python3"
  },
  "language_info": {
   "codemirror_mode": {
    "name": "ipython",
    "version": 3
   },
   "file_extension": ".py",
   "mimetype": "text/x-python",
   "name": "python",
   "nbconvert_exporter": "python",
   "pygments_lexer": "ipython3",
   "version": "3.8.5"
  }
 },
 "nbformat": 4,
 "nbformat_minor": 4
}
