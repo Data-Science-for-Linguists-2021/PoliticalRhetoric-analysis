{
 "cells": [
  {
   "cell_type": "markdown",
   "metadata": {},
   "source": [
    "## Part 1: RNC and DNC Speech Analysis\n",
    "* The RNC and DNC speeches are written with the intent to persuade an otherwise already persuaded audience.\n",
    "    * For example, viewers of the RNC are typically republican: \"More viewers tuned into Fox News to watch the final night of the Republican convention than any other TV network\" (https://www.wsj.com/articles/rnc-ratings-final-night-draws-23-8-million-viewers-as-trump-accepts-nomination-11598652831)\n",
    "* This analysis will include a classifier which will predict whether a test document is from a republican speaker or a democratic speaker. \n",
    "    * Goal: to see if the classifier will be able to recognize differences in the word choices of each group. Hypothesis: high accuracy. Also, see the top features.\n",
    "* Additionally, I will include a model to see if the length of the speech, the length of the sentences, the TTR, etc. has any significance on predicting between republican and democratic speeches."
   ]
  },
  {
   "cell_type": "code",
   "execution_count": 2,
   "metadata": {},
   "outputs": [],
   "source": [
    "import pandas as pd\n",
    "import nltk\n",
    "import numpy as np\n",
    "import sklearn\n",
    "from sklearn.feature_extraction.text import CountVectorizer\n",
    "from sklearn.feature_extraction.text import TfidfVectorizer\n",
    "from sklearn.metrics import accuracy_score\n",
    "from sklearn.metrics import confusion_matrix\n",
    "import seaborn as sns        # seaborn graphical package\n",
    "sns.set_style('darkgrid')\n",
    "import matplotlib.pyplot as plt"
   ]
  },
  {
   "cell_type": "code",
   "execution_count": 3,
   "metadata": {},
   "outputs": [
    {
     "data": {
      "text/plain": [
       "R    30\n",
       "D    21\n",
       "Name: Aff, dtype: int64"
      ]
     },
     "execution_count": 3,
     "metadata": {},
     "output_type": "execute_result"
    }
   ],
   "source": [
    "conv_speeches = pd.read_csv(\"/Users/emmatarcson/Documents/data_science/RhetoricalFactor-analysis/data_sample/convspeeches.csv\")\n",
    "conv_speeches = conv_speeches[['Aff','Speech']]\n",
    "conv_speeches.Aff.value_counts()"
   ]
  },
  {
   "cell_type": "code",
   "execution_count": 3,
   "metadata": {},
   "outputs": [],
   "source": [
    "from sklearn.model_selection import train_test_split\n",
    "X_train, X_test, y_train, y_test = train_test_split(conv_speeches['Speech'], conv_speeches['Aff'], random_state=0,\n",
    "                                  train_size=0.6) "
   ]
  },
  {
   "cell_type": "code",
   "execution_count": 4,
   "metadata": {},
   "outputs": [],
   "source": [
    "vectorizer = TfidfVectorizer(min_df=1, max_features=4000, stop_words='english')\n",
    "\n",
    "X_text_train = vectorizer.fit_transform(X_train)\n"
   ]
  },
  {
   "cell_type": "code",
   "execution_count": 5,
   "metadata": {},
   "outputs": [],
   "source": [
    "X_text_test = vectorizer.transform(X_test)"
   ]
  },
  {
   "cell_type": "code",
   "execution_count": 6,
   "metadata": {},
   "outputs": [
    {
     "data": {
      "text/plain": [
       "SVC(C=100000.0, kernel='linear')"
      ]
     },
     "execution_count": 6,
     "metadata": {},
     "output_type": "execute_result"
    }
   ],
   "source": [
    "from sklearn.svm import SVC \n",
    "svcmodel = SVC(kernel='linear', C=1E5)  \n",
    "svcmodel.fit(X_text_train, y_train)"
   ]
  },
  {
   "cell_type": "code",
   "execution_count": 7,
   "metadata": {},
   "outputs": [
    {
     "name": "stdout",
     "output_type": "stream",
     "text": [
      "29    R\n",
      "11    D\n",
      "10    D\n",
      "22    R\n",
      "2     D\n",
      "28    R\n",
      "45    R\n",
      "32    R\n",
      "26    R\n",
      "4     D\n",
      "33    R\n",
      "41    R\n",
      "27    R\n",
      "35    R\n",
      "34    R\n",
      "7     D\n",
      "14    D\n",
      "46    R\n",
      "18    D\n",
      "48    R\n",
      "Name: Aff, dtype: object\n",
      "['R' 'D' 'D' 'R' 'D' 'R' 'D' 'R' 'R' 'D' 'R' 'R' 'R' 'R' 'R' 'D' 'D' 'R'\n",
      " 'D' 'R']\n"
     ]
    }
   ],
   "source": [
    "pred = svcmodel.predict(X_text_test)\n",
    "print(y_test[:20])\n",
    "print(pred[:20])"
   ]
  },
  {
   "cell_type": "code",
   "execution_count": 8,
   "metadata": {},
   "outputs": [
    {
     "data": {
      "text/plain": [
       "0.9523809523809523"
      ]
     },
     "execution_count": 8,
     "metadata": {},
     "output_type": "execute_result"
    }
   ],
   "source": [
    "accuracy_score(y_test, pred)"
   ]
  },
  {
   "cell_type": "code",
   "execution_count": 9,
   "metadata": {},
   "outputs": [
    {
     "data": {
      "text/plain": [
       "8"
      ]
     },
     "execution_count": 9,
     "metadata": {},
     "output_type": "execute_result"
    }
   ],
   "source": [
    "letsee = [x for x in pred if x == 'D']\n",
    "len(letsee)"
   ]
  },
  {
   "cell_type": "code",
   "execution_count": 10,
   "metadata": {},
   "outputs": [
    {
     "name": "stderr",
     "output_type": "stream",
     "text": [
      "/Users/emmatarcson/opt/anaconda3/lib/python3.8/site-packages/sklearn/utils/validation.py:67: FutureWarning: Pass labels=['D', 'R'] as keyword args. From version 0.25 passing these as positional arguments will result in an error\n",
      "  warnings.warn(\"Pass {} as keyword args. From version 0.25 \"\n"
     ]
    },
    {
     "data": {
      "image/png": "[encoded data removed]",
      "text/plain": [
       "<Figure size 432x288 with 2 Axes>"
      ]
     },
     "metadata": {},
     "output_type": "display_data"
    }
   ],
   "source": [
    "from sklearn.metrics import confusion_matrix\n",
    "labels = ['D','R']\n",
    "mat = confusion_matrix(y_test, pred, labels)\n",
    "sns.heatmap(mat, square=True, annot=True, fmt='d', cmap=\"Reds\",\n",
    "           xticklabels=labels, yticklabels=labels)\n",
    "plt.xlabel('predicted label')\n",
    "plt.ylabel('true label')\n",
    "plt.show()"
   ]
  },
  {
   "cell_type": "markdown",
   "metadata": {},
   "source": [
    "* So there is one instance of it guessing Democratic, instead of Republican in the test set. \n",
    "* this makes me wonder if there is some super significant word in these speeches that is causing this, but vvv\n",
    "* That being said, I did expect a higher accuracy from the speeches"
   ]
  },
  {
   "cell_type": "code",
   "execution_count": null,
   "metadata": {},
   "outputs": [],
   "source": [
    "# because this is also just two binary, I can't do feature extraction, which is a bummer, but i'll add a random neutral \n",
    "# file just to see, not exactly pro data science, but"
   ]
  },
  {
   "cell_type": "code",
   "execution_count": 4,
   "metadata": {},
   "outputs": [
    {
     "data": {
      "text/html": [
       "<div>\n",
       "<style scoped>\n",
       "    .dataframe tbody tr th:only-of-type {\n",
       "        vertical-align: middle;\n",
       "    }\n",
       "\n",
       "    .dataframe tbody tr th {\n",
       "        vertical-align: top;\n",
       "    }\n",
       "\n",
       "    .dataframe thead th {\n",
       "        text-align: right;\n",
       "    }\n",
       "</style>\n",
       "<table border=\"1\" class=\"dataframe\">\n",
       "  <thead>\n",
       "    <tr style=\"text-align: right;\">\n",
       "      <th></th>\n",
       "      <th>Aff</th>\n",
       "      <th>Speech</th>\n",
       "    </tr>\n",
       "  </thead>\n",
       "  <tbody>\n",
       "    <tr>\n",
       "      <th>47</th>\n",
       "      <td>R</td>\n",
       "      <td>Good evening. My name is Rudy Giuliani, and I'...</td>\n",
       "    </tr>\n",
       "    <tr>\n",
       "      <th>48</th>\n",
       "      <td>R</td>\n",
       "      <td>I'm Tiffany Trump. Since speaking at the Repub...</td>\n",
       "    </tr>\n",
       "    <tr>\n",
       "      <th>49</th>\n",
       "      <td>R</td>\n",
       "      <td>Good evening. I'm Senator Tim Scott from the g...</td>\n",
       "    </tr>\n",
       "    <tr>\n",
       "      <th>50</th>\n",
       "      <td>R</td>\n",
       "      <td>Good evening. I'm Senator Tom Cotton. A lot's ...</td>\n",
       "    </tr>\n",
       "    <tr>\n",
       "      <th>1</th>\n",
       "      <td>None</td>\n",
       "      <td>Yo</td>\n",
       "    </tr>\n",
       "  </tbody>\n",
       "</table>\n",
       "</div>"
      ],
      "text/plain": [
       "     Aff                                             Speech\n",
       "47     R  Good evening. My name is Rudy Giuliani, and I'...\n",
       "48     R  I'm Tiffany Trump. Since speaking at the Repub...\n",
       "49     R  Good evening. I'm Senator Tim Scott from the g...\n",
       "50     R  Good evening. I'm Senator Tom Cotton. A lot's ...\n",
       "1   None                                                 Yo"
      ]
     },
     "execution_count": 4,
     "metadata": {},
     "output_type": "execute_result"
    }
   ],
   "source": [
    "import numpy as np\n",
    "from sklearn.naive_bayes import MultinomialNB\n",
    "neutral = pd.DataFrame({'Aff' : 'None', 'Speech': 'Yo'}, index=[1])\n",
    "conv2 = conv_speeches[['Aff', 'Speech']]\n",
    "conv2 = pd.concat([conv2, neutral])\n",
    "conv2.tail()"
   ]
  },
  {
   "cell_type": "code",
   "execution_count": 8,
   "metadata": {},
   "outputs": [
    {
     "name": "stdout",
     "output_type": "stream",
     "text": [
      "D: immigrants, doesn, protect, times, high, including, trust, justice, dream, economic, failed, injustice, empathy, beau, left, hope, small, plan, look, children, says, lead, loss, black, stand, government, heard, pandemic, movement, women, day, strong, rights, truth, win, poverty, promise, voting, say, knows, crisis, office, mail, text, states, seen, didn, harris, kids, virus, million, healthcare, covid, jobs, united, got, going, democracy, ll, kamala\n",
      "None: forget, gone, goes, god, goal, globe, global, giving, gives, given, girl, going, fact, foreign, force, feels, feel, federal, fear, favorite, favored, father, fast, farmers, far, families, fall, fake, faith, fairness, fair, failure, failed, facts, fellow, felt, fields, fierce, food, follow, folks, focus, floyd, florida, flew, flag, fixed, forced, firsthand, finish, fine, finds, finding, financial, finally, final, filled, fighting, fired, zones\n",
      "R: pandemic, coming, means, reform, single, election, bless, isis, important, drug, law, care, middle, land, hunter, north, took, chinese, school, states, promise, believes, father, women, trust, year, ll, proud, matter, mother, called, ask, party, government, look, united, say, media, children, families, democrat, help, cities, war, home, choice, think, democrats, police, going, city, black, god, jobs, thank, dream, opportunity, heroes, freedom, china\n"
     ]
    }
   ],
   "source": [
    "from sklearn.model_selection import train_test_split\n",
    "X_train, X_test, y_train, y_test = train_test_split(conv2['Speech'], conv2['Aff'], random_state=0,\n",
    "                                  train_size=0.6)\n",
    "nbmodel = MultinomialNB()\n",
    "vectorizer = TfidfVectorizer(max_df=0.5, min_df=2,max_features=1500, stop_words='english') #using this to find vocab\n",
    "X_text_train = vectorizer.fit_transform(X_train)\n",
    "X_text_test = vectorizer.transform(X_test)\n",
    "\n",
    "\n",
    "nbmodel.fit(X_text_train, y_train)\n",
    "pred = nbmodel.predict(X_text_test)\n",
    "\n",
    "def print_top(vectorizer, clf, class_labels, n):\n",
    "    \"\"\"Prints features with the highest coefficient values, per class\"\"\"\n",
    "    feature_names = vectorizer.get_feature_names()\n",
    "    for i, class_label in enumerate(class_labels):\n",
    "        top = np.argsort(clf.coef_[i])[0-n:]\n",
    "        print(\"%s: %s\" % (class_label,\n",
    "              \", \".join(feature_names[j].replace(' ', '-') for j in top)))\n",
    "    \n",
    "\n",
    "print_top(vectorizer, nbmodel, nbmodel.classes_, 60)"
   ]
  },
  {
   "cell_type": "code",
   "execution_count": 216,
   "metadata": {},
   "outputs": [
    {
     "data": {
      "text/html": [
       "<div>\n",
       "<style scoped>\n",
       "    .dataframe tbody tr th:only-of-type {\n",
       "        vertical-align: middle;\n",
       "    }\n",
       "\n",
       "    .dataframe tbody tr th {\n",
       "        vertical-align: top;\n",
       "    }\n",
       "\n",
       "    .dataframe thead th {\n",
       "        text-align: right;\n",
       "    }\n",
       "</style>\n",
       "<table border=\"1\" class=\"dataframe\">\n",
       "  <thead>\n",
       "    <tr style=\"text-align: right;\">\n",
       "      <th></th>\n",
       "      <th>Aff</th>\n",
       "      <th>Speech</th>\n",
       "      <th>Toks</th>\n",
       "      <th>Token_count</th>\n",
       "      <th>Type_count</th>\n",
       "      <th>TTR</th>\n",
       "    </tr>\n",
       "  </thead>\n",
       "  <tbody>\n",
       "    <tr>\n",
       "      <th>0</th>\n",
       "      <td>D</td>\n",
       "      <td>Good evening and thank you to everyone here to...</td>\n",
       "      <td>[good, evening, and, thank, you, to, everyone,...</td>\n",
       "      <td>193</td>\n",
       "      <td>118</td>\n",
       "      <td>0.611399</td>\n",
       "    </tr>\n",
       "    <tr>\n",
       "      <th>1</th>\n",
       "      <td>D</td>\n",
       "      <td>We climbed the impossible mountain, and right ...</td>\n",
       "      <td>[we, climbed, the, impossible, mountain, and, ...</td>\n",
       "      <td>750</td>\n",
       "      <td>326</td>\n",
       "      <td>0.434667</td>\n",
       "    </tr>\n",
       "    <tr>\n",
       "      <th>2</th>\n",
       "      <td>D</td>\n",
       "      <td>Hello, America. I'm Andrew Yang. You might kno...</td>\n",
       "      <td>[hello, america, im, andrew, yang, you, might,...</td>\n",
       "      <td>428</td>\n",
       "      <td>214</td>\n",
       "      <td>0.500000</td>\n",
       "    </tr>\n",
       "    <tr>\n",
       "      <th>3</th>\n",
       "      <td>D</td>\n",
       "      <td>Good evening everybody. As you've seen by now ...</td>\n",
       "      <td>[good, evening, everybody, as, youve, seen, by...</td>\n",
       "      <td>2278</td>\n",
       "      <td>795</td>\n",
       "      <td>0.348990</td>\n",
       "    </tr>\n",
       "    <tr>\n",
       "      <th>4</th>\n",
       "      <td>D</td>\n",
       "      <td>Good evening. Our great nation is now living i...</td>\n",
       "      <td>[good, evening, our, great, nation, is, now, l...</td>\n",
       "      <td>982</td>\n",
       "      <td>440</td>\n",
       "      <td>0.448065</td>\n",
       "    </tr>\n",
       "  </tbody>\n",
       "</table>\n",
       "</div>"
      ],
      "text/plain": [
       "  Aff                                             Speech  \\\n",
       "0   D  Good evening and thank you to everyone here to...   \n",
       "1   D  We climbed the impossible mountain, and right ...   \n",
       "2   D  Hello, America. I'm Andrew Yang. You might kno...   \n",
       "3   D  Good evening everybody. As you've seen by now ...   \n",
       "4   D  Good evening. Our great nation is now living i...   \n",
       "\n",
       "                                                Toks  Token_count  Type_count  \\\n",
       "0  [good, evening, and, thank, you, to, everyone,...          193         118   \n",
       "1  [we, climbed, the, impossible, mountain, and, ...          750         326   \n",
       "2  [hello, america, im, andrew, yang, you, might,...          428         214   \n",
       "3  [good, evening, everybody, as, youve, seen, by...         2278         795   \n",
       "4  [good, evening, our, great, nation, is, now, l...          982         440   \n",
       "\n",
       "        TTR  \n",
       "0  0.611399  \n",
       "1  0.434667  \n",
       "2  0.500000  \n",
       "3  0.348990  \n",
       "4  0.448065  "
      ]
     },
     "execution_count": 216,
     "metadata": {},
     "output_type": "execute_result"
    }
   ],
   "source": [
    "# so onto extra features\n",
    "\n",
    "import re\n",
    "trans_toks = [nltk.word_tokenize(re.sub(r'[^\\w+ ]', '', t.lower())) for t in conv_speeches['Speech']]\n",
    "trans_tok_lens = [len(t) for t in trans_toks]\n",
    "trans_type_lens = [len(set(t)) for t in trans_toks]\n",
    "TTR = [len(set(t))/len(t) for t in trans_toks]\n",
    "\n",
    "conv_speeches['Toks'] = trans_toks\n",
    "conv_speeches['Token_count'] = trans_tok_lens\n",
    "conv_speeches['Type_count'] = trans_type_lens\n",
    "conv_speeches['TTR'] = TTR\n",
    "conv_speeches.head()"
   ]
  },
  {
   "cell_type": "markdown",
   "metadata": {},
   "source": [
    "There could be some information to see if a classifier would be able to predict based on token length, but since these are pre written speeches, and I can't do feature extraction at the moment, maybe TTR will be useful to look at. "
   ]
  },
  {
   "cell_type": "code",
   "execution_count": 222,
   "metadata": {},
   "outputs": [
    {
     "data": {
      "text/html": [
       "<div>\n",
       "<style scoped>\n",
       "    .dataframe tbody tr th:only-of-type {\n",
       "        vertical-align: middle;\n",
       "    }\n",
       "\n",
       "    .dataframe tbody tr th {\n",
       "        vertical-align: top;\n",
       "    }\n",
       "\n",
       "    .dataframe thead th {\n",
       "        text-align: right;\n",
       "    }\n",
       "</style>\n",
       "<table border=\"1\" class=\"dataframe\">\n",
       "  <thead>\n",
       "    <tr style=\"text-align: right;\">\n",
       "      <th></th>\n",
       "      <th>Aff</th>\n",
       "      <th>Speech</th>\n",
       "      <th>Toks</th>\n",
       "      <th>Token_count</th>\n",
       "      <th>Type_count</th>\n",
       "      <th>TTR</th>\n",
       "      <th>SentAmt</th>\n",
       "      <th>AVGSENTLEN</th>\n",
       "    </tr>\n",
       "  </thead>\n",
       "  <tbody>\n",
       "    <tr>\n",
       "      <th>0</th>\n",
       "      <td>D</td>\n",
       "      <td>Good evening and thank you to everyone here to...</td>\n",
       "      <td>[good, evening, and, thank, you, to, everyone,...</td>\n",
       "      <td>193</td>\n",
       "      <td>118</td>\n",
       "      <td>0.611399</td>\n",
       "      <td>5</td>\n",
       "      <td>38.600000</td>\n",
       "    </tr>\n",
       "    <tr>\n",
       "      <th>1</th>\n",
       "      <td>D</td>\n",
       "      <td>We climbed the impossible mountain, and right ...</td>\n",
       "      <td>[we, climbed, the, impossible, mountain, and, ...</td>\n",
       "      <td>750</td>\n",
       "      <td>326</td>\n",
       "      <td>0.434667</td>\n",
       "      <td>55</td>\n",
       "      <td>13.636364</td>\n",
       "    </tr>\n",
       "    <tr>\n",
       "      <th>2</th>\n",
       "      <td>D</td>\n",
       "      <td>Hello, America. I'm Andrew Yang. You might kno...</td>\n",
       "      <td>[hello, america, im, andrew, yang, you, might,...</td>\n",
       "      <td>428</td>\n",
       "      <td>214</td>\n",
       "      <td>0.500000</td>\n",
       "      <td>25</td>\n",
       "      <td>17.120000</td>\n",
       "    </tr>\n",
       "    <tr>\n",
       "      <th>3</th>\n",
       "      <td>D</td>\n",
       "      <td>Good evening everybody. As you've seen by now ...</td>\n",
       "      <td>[good, evening, everybody, as, youve, seen, by...</td>\n",
       "      <td>2278</td>\n",
       "      <td>795</td>\n",
       "      <td>0.348990</td>\n",
       "      <td>102</td>\n",
       "      <td>22.333333</td>\n",
       "    </tr>\n",
       "    <tr>\n",
       "      <th>4</th>\n",
       "      <td>D</td>\n",
       "      <td>Good evening. Our great nation is now living i...</td>\n",
       "      <td>[good, evening, our, great, nation, is, now, l...</td>\n",
       "      <td>982</td>\n",
       "      <td>440</td>\n",
       "      <td>0.448065</td>\n",
       "      <td>44</td>\n",
       "      <td>22.318182</td>\n",
       "    </tr>\n",
       "  </tbody>\n",
       "</table>\n",
       "</div>"
      ],
      "text/plain": [
       "  Aff                                             Speech  \\\n",
       "0   D  Good evening and thank you to everyone here to...   \n",
       "1   D  We climbed the impossible mountain, and right ...   \n",
       "2   D  Hello, America. I'm Andrew Yang. You might kno...   \n",
       "3   D  Good evening everybody. As you've seen by now ...   \n",
       "4   D  Good evening. Our great nation is now living i...   \n",
       "\n",
       "                                                Toks  Token_count  Type_count  \\\n",
       "0  [good, evening, and, thank, you, to, everyone,...          193         118   \n",
       "1  [we, climbed, the, impossible, mountain, and, ...          750         326   \n",
       "2  [hello, america, im, andrew, yang, you, might,...          428         214   \n",
       "3  [good, evening, everybody, as, youve, seen, by...         2278         795   \n",
       "4  [good, evening, our, great, nation, is, now, l...          982         440   \n",
       "\n",
       "        TTR  SentAmt  AVGSENTLEN  \n",
       "0  0.611399        5   38.600000  \n",
       "1  0.434667       55   13.636364  \n",
       "2  0.500000       25   17.120000  \n",
       "3  0.348990      102   22.333333  \n",
       "4  0.448065       44   22.318182  "
      ]
     },
     "execution_count": 222,
     "metadata": {},
     "output_type": "execute_result"
    }
   ],
   "source": [
    "sents = [len(nltk.sent_tokenize(t)) for t in conv_speeches['Speech']]\n",
    "\n",
    "conv_speeches['SentAmt'] = sents\n",
    "conv_speeches['AVGSENTLEN'] = conv_speeches.Token_count/conv_speeches.SentAmt\n",
    "conv_speeches.head()"
   ]
  },
  {
   "cell_type": "code",
   "execution_count": 243,
   "metadata": {},
   "outputs": [
    {
     "data": {
      "text/plain": [
       "0.45454545454545453"
      ]
     },
     "execution_count": 243,
     "metadata": {},
     "output_type": "execute_result"
    }
   ],
   "source": [
    "# building logistic regression\n",
    "from sklearn.linear_model import LogisticRegression \n",
    "X = conv_speeches[['Token_count', 'Type_count', 'TTR', 'SentAmt', 'AVGSENTLEN']]\n",
    "y = conv_speeches['Aff']\n",
    "X_train, X_test, y_train, y_test = train_test_split(X, y, test_size=0.2, random_state=0, stratify=y)\n",
    "\n",
    "\n",
    "lr_model = LogisticRegression(C = 1, class_weight= None, penalty='l2')   # default setting\n",
    "lr_model.fit(X_train, y_train)\n",
    "y_pred = lr_model.predict(X_test)\n",
    "accuracy_score(y_test, y_pred) \n"
   ]
  },
  {
   "cell_type": "markdown",
   "metadata": {},
   "source": [
    "Interesting, so for speeches, the svc classifier was almost 100% positive about the Affiliation, but the format of the speeches didn't play a big role. This might actually help my hypothesis in that speeches were more directed at known audience and so they were more polarizing, but the actually makings of the speeches were not as distinguishable."
   ]
  },
  {
   "cell_type": "markdown",
   "metadata": {},
   "source": [
    "### Exploration, please ignore for now"
   ]
  },
  {
   "cell_type": "code",
   "execution_count": 228,
   "metadata": {},
   "outputs": [],
   "source": [
    "# possible topic modeling for looking at what both groups were talking about? "
   ]
  },
  {
   "cell_type": "code",
   "execution_count": 200,
   "metadata": {},
   "outputs": [],
   "source": [
    "# this is a mess\n",
    "just_D = conv_speeches[conv_speeches.Aff == 'D'].Speech\n",
    "just_R = conv_speeches[conv_speeches.Aff == 'R'].Speech\n",
    "D_full = pd.DataFrame({'Aff': 'D', 'Speech' : str(list(just_D.values)).replace(\"',\", '.').replace(\" '\",\" \").strip('[]').strip(\"''\")},\n",
    "                      index = [1])\n",
    "R_full = pd.DataFrame({'Aff': 'R', 'Speech' : str(list(just_R.values)).replace(\"',\", '.').replace(\" '\",\" \").strip('[]').strip(\"''\")},\n",
    "                      index = [2])\n",
    "D_and_R = pd.concat([R_full, D_full])\n",
    "D_list = [('D', str(list(just_D.values)).replace(\"',\", '.').replace(\" '\",\" \").strip('[]').strip(\"''\"))]\n",
    "R_list = ('R', str(list(just_R.values)).replace(\"',\", '.').replace(\" '\",\" \").strip('[]').strip(\"''\"))\n",
    "D_list.append(R_list)"
   ]
  },
  {
   "cell_type": "code",
   "execution_count": 202,
   "metadata": {},
   "outputs": [],
   "source": [
    "# like in the debate analysis, there's no way to figure out a binary word importance :(\n",
    "# maybe I can find just the most frequent words used in each and compare them?\n",
    "import re\n",
    "\n",
    "# i tried getting rid of stop words using nltk, but that didn't work so I manually got rid of some\n",
    "#words = nltk.word_tokenize(re.sub(r'[^\\w ]', '', \n",
    "#word_features = nltk.FreqDist(t.lower() for t in nltk.word_tokenize(full))\n",
    "#def document_features(document): \n",
    "   # document_words = set(document) \n",
    "   # features = {}\n",
    "   # for word in word_features:\n",
    "    #    features['contains({})'.format(word)] = (word in document_words)\n",
    "   # return features"
   ]
  },
  {
   "cell_type": "code",
   "execution_count": 203,
   "metadata": {},
   "outputs": [],
   "source": [
    "#featuresets = [(a, document_features(b)) for (a,b) in D_list]\n",
    "#train_set, test_set = featuresets[100:], featuresets[:100]\n",
    "#classifier = nltk.NaiveBayesClassifier.train(train_set)"
   ]
  },
  {
   "cell_type": "code",
   "execution_count": null,
   "metadata": {},
   "outputs": [],
   "source": [
    "#print(nltk.classify.accuracy(classifier, test_set))"
   ]
  },
  {
   "cell_type": "code",
   "execution_count": null,
   "metadata": {},
   "outputs": [],
   "source": []
  }
 ],
 "metadata": {
  "kernelspec": {
   "display_name": "Python 3",
   "language": "python",
   "name": "python3"
  },
  "language_info": {
   "codemirror_mode": {
    "name": "ipython",
    "version": 3
   },
   "file_extension": ".py",
   "mimetype": "text/x-python",
   "name": "python",
   "nbconvert_exporter": "python",
   "pygments_lexer": "ipython3",
   "version": "3.8.5"
  }
 },
 "nbformat": 4,
 "nbformat_minor": 4
}
