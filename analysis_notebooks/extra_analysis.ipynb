{
 "cells": [
  {
   "cell_type": "markdown",
   "metadata": {},
   "source": [
    "## This will be a space where I play out any further analyses"
   ]
  },
  {
   "cell_type": "code",
   "execution_count": 1,
   "metadata": {},
   "outputs": [],
   "source": [
    "import pandas as pd\n",
    "import nltk\n",
    "import sklearn\n",
    "import numpy as np\n",
    "from sklearn.feature_extraction.text import CountVectorizer\n",
    "from sklearn.feature_extraction.text import TfidfVectorizer\n",
    "from sklearn.naive_bayes import MultinomialNB\n",
    "from sklearn.metrics import accuracy_score\n",
    "from sklearn.metrics import confusion_matrix\n",
    "import seaborn as sns        # seaborn graphical package\n",
    "sns.set_style('darkgrid')\n",
    "import matplotlib.pyplot as plt"
   ]
  },
  {
   "cell_type": "markdown",
   "metadata": {},
   "source": [
    "### Table of Contents:\n",
    "* [First Section](#First-Section): finding adjectives in president debate\n",
    "* [Second Section](#Second-Section): finding CM and SP adjectives in Donald Trump vs. Joe Biden\n",
    "* [Third Section](#Third-Section): finding adjectives in all debates\n",
    "* [Fourth Section](#Fourth-Section): most frequent adjectives used\n",
    "* [Fifth Section](#Fifth-Section): finding adjectives in vp debates\n",
    "* [Sixth Section](#Sixth-Section): finding adjectives in convention speeches\n",
    "* [Seventh Section](#Seventh-Section): finding adjectives in platform\n",
    "* [Eighth Section](#Eighth-Section): comparing each mode of text\n",
    "* [Nineth Section](#Nineth-Section): finding most informative adjectives in debates"
   ]
  },
  {
   "cell_type": "markdown",
   "metadata": {},
   "source": [
    "### First Section"
   ]
  },
  {
   "cell_type": "code",
   "execution_count": 2,
   "metadata": {},
   "outputs": [
    {
     "data": {
      "text/plain": [
       "R       193\n",
       "None    188\n",
       "D       131\n",
       "Name: Aff, dtype: int64"
      ]
     },
     "execution_count": 2,
     "metadata": {},
     "output_type": "execute_result"
    }
   ],
   "source": [
    "allpresdebate = pd.read_csv(\"/Users/emmatarcson/Documents/data_science/RhetoricalFactor-analysis/data/all_speakers/presdebatewelker.csv\")\n",
    "allpresdebate = allpresdebate[['Aff','transcript']]\n",
    "allpresdebate.Aff.value_counts()"
   ]
  },
  {
   "cell_type": "code",
   "execution_count": 3,
   "metadata": {},
   "outputs": [
    {
     "data": {
      "text/html": [
       "<div>\n",
       "<style scoped>\n",
       "    .dataframe tbody tr th:only-of-type {\n",
       "        vertical-align: middle;\n",
       "    }\n",
       "\n",
       "    .dataframe tbody tr th {\n",
       "        vertical-align: top;\n",
       "    }\n",
       "\n",
       "    .dataframe thead th {\n",
       "        text-align: right;\n",
       "    }\n",
       "</style>\n",
       "<table border=\"1\" class=\"dataframe\">\n",
       "  <thead>\n",
       "    <tr style=\"text-align: right;\">\n",
       "      <th></th>\n",
       "      <th>Aff</th>\n",
       "      <th>transcript</th>\n",
       "    </tr>\n",
       "  </thead>\n",
       "  <tbody>\n",
       "    <tr>\n",
       "      <th>0</th>\n",
       "      <td>None</td>\n",
       "      <td>Good evening, everyone. Good evening. Thank yo...</td>\n",
       "    </tr>\n",
       "    <tr>\n",
       "      <th>1</th>\n",
       "      <td>R</td>\n",
       "      <td>How are you doing? How are you?</td>\n",
       "    </tr>\n",
       "    <tr>\n",
       "      <th>2</th>\n",
       "      <td>None</td>\n",
       "      <td>And I do want to say a very good evening to bo...</td>\n",
       "    </tr>\n",
       "    <tr>\n",
       "      <th>3</th>\n",
       "      <td>None</td>\n",
       "      <td>The goal is for you to hear each other and for...</td>\n",
       "    </tr>\n",
       "    <tr>\n",
       "      <th>4</th>\n",
       "      <td>None</td>\n",
       "      <td>… during this next stage of the coronavirus cr...</td>\n",
       "    </tr>\n",
       "    <tr>\n",
       "      <th>...</th>\n",
       "      <td>...</td>\n",
       "      <td>...</td>\n",
       "    </tr>\n",
       "    <tr>\n",
       "      <th>507</th>\n",
       "      <td>None</td>\n",
       "      <td>All right. Vice President Biden, same question...</td>\n",
       "    </tr>\n",
       "    <tr>\n",
       "      <th>508</th>\n",
       "      <td>D</td>\n",
       "      <td>I will say, I’m an American President. I repre...</td>\n",
       "    </tr>\n",
       "    <tr>\n",
       "      <th>509</th>\n",
       "      <td>D</td>\n",
       "      <td>We can grow this economy, we can deal with the...</td>\n",
       "    </tr>\n",
       "    <tr>\n",
       "      <th>510</th>\n",
       "      <td>None</td>\n",
       "      <td>All right, I want to thank you both for a very...</td>\n",
       "    </tr>\n",
       "    <tr>\n",
       "      <th>511</th>\n",
       "      <td>D</td>\n",
       "      <td>Thank you.</td>\n",
       "    </tr>\n",
       "  </tbody>\n",
       "</table>\n",
       "<p>512 rows × 2 columns</p>\n",
       "</div>"
      ],
      "text/plain": [
       "      Aff                                         transcript\n",
       "0    None  Good evening, everyone. Good evening. Thank yo...\n",
       "1       R                    How are you doing? How are you?\n",
       "2    None  And I do want to say a very good evening to bo...\n",
       "3    None  The goal is for you to hear each other and for...\n",
       "4    None  … during this next stage of the coronavirus cr...\n",
       "..    ...                                                ...\n",
       "507  None  All right. Vice President Biden, same question...\n",
       "508     D  I will say, I’m an American President. I repre...\n",
       "509     D  We can grow this economy, we can deal with the...\n",
       "510  None  All right, I want to thank you both for a very...\n",
       "511     D                                         Thank you.\n",
       "\n",
       "[512 rows x 2 columns]"
      ]
     },
     "execution_count": 3,
     "metadata": {},
     "output_type": "execute_result"
    }
   ],
   "source": [
    "allpresdebate"
   ]
  },
  {
   "cell_type": "code",
   "execution_count": 4,
   "metadata": {},
   "outputs": [],
   "source": [
    "import pandas as pd\n",
    "from textblob import TextBlob"
   ]
  },
  {
   "cell_type": "code",
   "execution_count": 5,
   "metadata": {},
   "outputs": [],
   "source": [
    "def get_adjectives(text):\n",
    "    blob = TextBlob(text)\n",
    "    return ' '.join(word for (word,tag) in blob.tags if tag.startswith(\"JJ\"))\n",
    "\n",
    "allpresdebate['adjectives'] = allpresdebate['transcript'].apply(get_adjectives)\n",
    "adj_count = [len(nltk.word_tokenize(t)) for t in allpresdebate.adjectives]\n",
    "allpresdebate['adj_count'] = adj_count"
   ]
  },
  {
   "cell_type": "code",
   "execution_count": 6,
   "metadata": {},
   "outputs": [
    {
     "data": {
      "text/html": [
       "<div>\n",
       "<style scoped>\n",
       "    .dataframe tbody tr th:only-of-type {\n",
       "        vertical-align: middle;\n",
       "    }\n",
       "\n",
       "    .dataframe tbody tr th {\n",
       "        vertical-align: top;\n",
       "    }\n",
       "\n",
       "    .dataframe thead th {\n",
       "        text-align: right;\n",
       "    }\n",
       "</style>\n",
       "<table border=\"1\" class=\"dataframe\">\n",
       "  <thead>\n",
       "    <tr style=\"text-align: right;\">\n",
       "      <th></th>\n",
       "      <th>Aff</th>\n",
       "      <th>transcript</th>\n",
       "      <th>adjectives</th>\n",
       "      <th>adj_count</th>\n",
       "    </tr>\n",
       "  </thead>\n",
       "  <tbody>\n",
       "    <tr>\n",
       "      <th>0</th>\n",
       "      <td>None</td>\n",
       "      <td>Good evening, everyone. Good evening. Thank yo...</td>\n",
       "      <td>Good Good such final first first glad thankful...</td>\n",
       "      <td>23</td>\n",
       "    </tr>\n",
       "    <tr>\n",
       "      <th>1</th>\n",
       "      <td>R</td>\n",
       "      <td>How are you doing? How are you?</td>\n",
       "      <td></td>\n",
       "      <td>0</td>\n",
       "    </tr>\n",
       "    <tr>\n",
       "      <th>2</th>\n",
       "      <td>None</td>\n",
       "      <td>And I do want to say a very good evening to bo...</td>\n",
       "      <td>good major uninterrupted first</td>\n",
       "      <td>4</td>\n",
       "    </tr>\n",
       "    <tr>\n",
       "      <th>3</th>\n",
       "      <td>None</td>\n",
       "      <td>The goal is for you to hear each other and for...</td>\n",
       "      <td>other American re ready first dangerous new Mo...</td>\n",
       "      <td>13</td>\n",
       "    </tr>\n",
       "    <tr>\n",
       "      <th>4</th>\n",
       "      <td>None</td>\n",
       "      <td>… during this next stage of the coronavirus cr...</td>\n",
       "      <td>next</td>\n",
       "      <td>1</td>\n",
       "    </tr>\n",
       "    <tr>\n",
       "      <th>...</th>\n",
       "      <td>...</td>\n",
       "      <td>...</td>\n",
       "      <td>...</td>\n",
       "      <td>...</td>\n",
       "    </tr>\n",
       "    <tr>\n",
       "      <th>507</th>\n",
       "      <td>None</td>\n",
       "      <td>All right. Vice President Biden, same question...</td>\n",
       "      <td>same inaugural</td>\n",
       "      <td>2</td>\n",
       "    </tr>\n",
       "    <tr>\n",
       "      <th>508</th>\n",
       "      <td>D</td>\n",
       "      <td>I will say, I’m an American President. I repre...</td>\n",
       "      <td>American sure enormous enormous better</td>\n",
       "      <td>5</td>\n",
       "    </tr>\n",
       "    <tr>\n",
       "      <th>509</th>\n",
       "      <td>D</td>\n",
       "      <td>We can grow this economy, we can deal with the...</td>\n",
       "      <td>systemic same sure clean new ’ sure sure ’ last</td>\n",
       "      <td>10</td>\n",
       "    </tr>\n",
       "    <tr>\n",
       "      <th>510</th>\n",
       "      <td>None</td>\n",
       "      <td>All right, I want to thank you both for a very...</td>\n",
       "      <td>robust fantastic tonight most great</td>\n",
       "      <td>5</td>\n",
       "    </tr>\n",
       "    <tr>\n",
       "      <th>511</th>\n",
       "      <td>D</td>\n",
       "      <td>Thank you.</td>\n",
       "      <td></td>\n",
       "      <td>0</td>\n",
       "    </tr>\n",
       "  </tbody>\n",
       "</table>\n",
       "<p>512 rows × 4 columns</p>\n",
       "</div>"
      ],
      "text/plain": [
       "      Aff                                         transcript  \\\n",
       "0    None  Good evening, everyone. Good evening. Thank yo...   \n",
       "1       R                    How are you doing? How are you?   \n",
       "2    None  And I do want to say a very good evening to bo...   \n",
       "3    None  The goal is for you to hear each other and for...   \n",
       "4    None  … during this next stage of the coronavirus cr...   \n",
       "..    ...                                                ...   \n",
       "507  None  All right. Vice President Biden, same question...   \n",
       "508     D  I will say, I’m an American President. I repre...   \n",
       "509     D  We can grow this economy, we can deal with the...   \n",
       "510  None  All right, I want to thank you both for a very...   \n",
       "511     D                                         Thank you.   \n",
       "\n",
       "                                            adjectives  adj_count  \n",
       "0    Good Good such final first first glad thankful...         23  \n",
       "1                                                               0  \n",
       "2                       good major uninterrupted first          4  \n",
       "3    other American re ready first dangerous new Mo...         13  \n",
       "4                                                 next          1  \n",
       "..                                                 ...        ...  \n",
       "507                                     same inaugural          2  \n",
       "508             American sure enormous enormous better          5  \n",
       "509    systemic same sure clean new ’ sure sure ’ last         10  \n",
       "510                robust fantastic tonight most great          5  \n",
       "511                                                             0  \n",
       "\n",
       "[512 rows x 4 columns]"
      ]
     },
     "execution_count": 6,
     "metadata": {},
     "output_type": "execute_result"
    }
   ],
   "source": [
    "allpresdebate"
   ]
  },
  {
   "cell_type": "code",
   "execution_count": 7,
   "metadata": {},
   "outputs": [
    {
     "data": {
      "text/plain": [
       "count    131.000000\n",
       "mean       4.282443\n",
       "std        4.751153\n",
       "min        0.000000\n",
       "25%        0.500000\n",
       "50%        2.000000\n",
       "75%        7.000000\n",
       "max       21.000000\n",
       "Name: adj_count, dtype: float64"
      ]
     },
     "execution_count": 7,
     "metadata": {},
     "output_type": "execute_result"
    }
   ],
   "source": [
    "allpresdebate[allpresdebate.Aff == 'D'].adj_count.describe()"
   ]
  },
  {
   "cell_type": "code",
   "execution_count": 8,
   "metadata": {},
   "outputs": [
    {
     "data": {
      "image/png": "[encoded data removed]",
      "text/plain": [
       "<Figure size 640x480 with 1 Axes>"
      ]
     },
     "metadata": {},
     "output_type": "display_data"
    }
   ],
   "source": [
    "import matplotlib.pyplot as plt; plt.rcdefaults()\n",
    "import numpy as np\n",
    "import matplotlib.pyplot as plt\n",
    "\n",
    "aff = ['Donald Trump','Joe Biden']\n",
    "mean_adj = [allpresdebate[allpresdebate.Aff == 'R'].adj_count.count(), allpresdebate[allpresdebate.Aff == 'D'].adj_count.count()]\n",
    "\n",
    "plt.bar(aff,mean_adj)\n",
    "plt.title('AVG ADJ in Debate')\n",
    "plt.ylabel('Average # of adjectives')\n",
    "plt.xlabel('Candidate')\n",
    "#plt.savefig('adj_pres.png')\n",
    "plt.show()"
   ]
  },
  {
   "cell_type": "markdown",
   "metadata": {},
   "source": [
    "### Second Section"
   ]
  },
  {
   "cell_type": "code",
   "execution_count": 9,
   "metadata": {},
   "outputs": [],
   "source": [
    "def get_adjectives(text):\n",
    "    blob = TextBlob(text)\n",
    "    return ' '.join(word for (word,tag) in blob.tags if tag=='JJR' or tag=='JJS')\n",
    "\n",
    "allpresdebate['adjectives3'] = allpresdebate['transcript'].apply(get_adjectives)\n",
    "adj_count = [len(nltk.word_tokenize(t)) for t in allpresdebate.adjectives3]\n",
    "allpresdebate['adj_count3'] = adj_count"
   ]
  },
  {
   "cell_type": "code",
   "execution_count": 10,
   "metadata": {},
   "outputs": [
    {
     "data": {
      "text/plain": [
       "count    512.000000\n",
       "mean       0.230469\n",
       "std        0.706144\n",
       "min        0.000000\n",
       "25%        0.000000\n",
       "50%        0.000000\n",
       "75%        0.000000\n",
       "max        5.000000\n",
       "Name: adj_count3, dtype: float64"
      ]
     },
     "execution_count": 10,
     "metadata": {},
     "output_type": "execute_result"
    }
   ],
   "source": [
    "allpresdebate.adj_count3.describe()"
   ]
  },
  {
   "cell_type": "code",
   "execution_count": 11,
   "metadata": {},
   "outputs": [
    {
     "data": {
      "image/png": "[encoded data removed]",
      "text/plain": [
       "<Figure size 640x480 with 1 Axes>"
      ]
     },
     "metadata": {},
     "output_type": "display_data"
    }
   ],
   "source": [
    "import matplotlib.pyplot as plt; plt.rcdefaults()\n",
    "import numpy as np\n",
    "import matplotlib.pyplot as plt\n",
    "\n",
    "aff = ['Donald Trump','Joe Biden']\n",
    "mean_adj = [allpresdebate[allpresdebate.Aff == 'R'].adj_count3.count(), allpresdebate[allpresdebate.Aff == 'D'].adj_count3.count()]\n",
    "\n",
    "plt.bar(aff,mean_adj)\n",
    "plt.title('CM and SP ADJ AMT')\n",
    "plt.ylabel('# of adjectives')\n",
    "plt.xlabel('Candidate')\n",
    "#plt.savefig('adj_donnie.png')\n",
    "plt.show()"
   ]
  },
  {
   "cell_type": "markdown",
   "metadata": {},
   "source": [
    "### Third Section"
   ]
  },
  {
   "cell_type": "code",
   "execution_count": 12,
   "metadata": {},
   "outputs": [
    {
     "data": {
      "text/plain": [
       "None    120\n",
       "R       113\n",
       "D        94\n",
       "Name: Aff, dtype: int64"
      ]
     },
     "execution_count": 12,
     "metadata": {},
     "output_type": "execute_result"
    }
   ],
   "source": [
    "allvpdebate = pd.read_csv(\"/Users/emmatarcson/Documents/data_science/RhetoricalFactor-analysis/data/all_speakers/pagedebate2020.csv\")\n",
    "allvpdebate = allvpdebate[['Aff','transcript']]\n",
    "allvpdebate.Aff.value_counts()"
   ]
  },
  {
   "cell_type": "code",
   "execution_count": 13,
   "metadata": {},
   "outputs": [],
   "source": [
    "vpdebate = pd.read_csv(\"/Users/emmatarcson/Documents/data_science/RhetoricalFactor-analysis/data/only_D_and_R/pageVPdebate.csv\")\n",
    "vpdebate = vpdebate[['Aff','transcript']]\n",
    "\n",
    "presdebate = pd.read_csv(\"/Users/emmatarcson/Documents/data_science/RhetoricalFactor-analysis/data/only_D_and_R/welkerPRESdebate.csv\")\n",
    "presdebate = presdebate[['Aff','transcript']]"
   ]
  },
  {
   "cell_type": "code",
   "execution_count": 14,
   "metadata": {},
   "outputs": [],
   "source": [
    "alldebates = pd.concat([vpdebate, presdebate])\n",
    "def get_adjectives(text):\n",
    "    blob = TextBlob(text)\n",
    "    return ' '.join(word for (word,tag) in blob.tags if tag.startswith(\"JJ\"))\n",
    "\n",
    "alldebates['adjectives'] = alldebates['transcript'].apply(get_adjectives)\n",
    "adj_count = [len(nltk.word_tokenize(t)) for t in alldebates.adjectives]\n",
    "alldebates['adj_count'] = adj_count"
   ]
  },
  {
   "cell_type": "code",
   "execution_count": 15,
   "metadata": {},
   "outputs": [
    {
     "data": {
      "image/png": "[encoded data removed]",
      "text/plain": [
       "<Figure size 640x480 with 1 Axes>"
      ]
     },
     "metadata": {},
     "output_type": "display_data"
    }
   ],
   "source": [
    "import matplotlib.pyplot as plt; plt.rcdefaults()\n",
    "import numpy as np\n",
    "import matplotlib.pyplot as plt\n",
    "\n",
    "aff = ['R','D']\n",
    "mean_adj = [alldebates[alldebates.Aff == 'R'].adj_count.count(), alldebates[alldebates.Aff == 'D'].adj_count.count()]\n",
    "\n",
    "plt.bar(aff,mean_adj)\n",
    "plt.title('# ADJ in Debates')\n",
    "plt.ylabel('Average # of adjectives')\n",
    "plt.xlabel('Candidate')\n",
    "#plt.savefig('adj_alldebate.png')\n",
    "plt.show()"
   ]
  },
  {
   "cell_type": "markdown",
   "metadata": {},
   "source": [
    "### Fourth Section"
   ]
  },
  {
   "cell_type": "code",
   "execution_count": 16,
   "metadata": {},
   "outputs": [],
   "source": [
    "pagetok = nltk.RegexpTokenizer(r'[a-z][a-z][a-z]+')\n",
    "pagewords = pagetok.tokenize(str(list(alldebates.adjectives.values)).lower())\n",
    "mostused = nltk.FreqDist(pagewords)\n",
    "hello = mostused.most_common(30)\n"
   ]
  },
  {
   "cell_type": "code",
   "execution_count": 17,
   "metadata": {},
   "outputs": [
    {
     "data": {
      "text/plain": [
       "[('american', 112),\n",
       " ('more', 47),\n",
       " ('other', 36),\n",
       " ('first', 30),\n",
       " ('last', 27),\n",
       " ('sure', 26),\n",
       " ('many', 25),\n",
       " ('good', 25),\n",
       " ('able', 24),\n",
       " ('clear', 24),\n",
       " ('great', 22),\n",
       " ('big', 20),\n",
       " ('public', 19),\n",
       " ('new', 17),\n",
       " ('true', 16),\n",
       " ('same', 14),\n",
       " ('best', 13),\n",
       " ('rid', 13),\n",
       " ('single', 13),\n",
       " ('better', 13),\n",
       " ('criminal', 12),\n",
       " ('little', 11),\n",
       " ('next', 11),\n",
       " ('different', 11),\n",
       " ('free', 10),\n",
       " ('less', 10),\n",
       " ('responsible', 10),\n",
       " ('military', 10),\n",
       " ('young', 9),\n",
       " ('important', 9)]"
      ]
     },
     "execution_count": 17,
     "metadata": {},
     "output_type": "execute_result"
    }
   ],
   "source": [
    "hello"
   ]
  },
  {
   "cell_type": "code",
   "execution_count": 18,
   "metadata": {},
   "outputs": [
    {
     "data": {
      "image/png": "[encoded data removed]",
      "text/plain": [
       "<Figure size 640x480 with 1 Axes>"
      ]
     },
     "metadata": {},
     "output_type": "display_data"
    }
   ],
   "source": [
    "words = [i[0] for i in hello]\n",
    "mean_adj = [i[1] for i in hello]\n",
    "\n",
    "plt.barh(words, mean_adj)\n",
    "plt.title('AVG ADJ')\n",
    "plt.ylabel('Highest Freq ADJS')\n",
    "plt.xlabel('Words')\n",
    "#plt.savefig('adj_freq.png')\n",
    "plt.show()"
   ]
  },
  {
   "cell_type": "markdown",
   "metadata": {},
   "source": [
    "### Fifth Section"
   ]
  },
  {
   "cell_type": "code",
   "execution_count": 19,
   "metadata": {},
   "outputs": [],
   "source": [
    "def get_adjectives(text):\n",
    "    blob = TextBlob(text)\n",
    "    return ' '.join(word for (word,tag) in blob.tags if tag.startswith(\"JJ\"))\n",
    "\n",
    "allvpdebate['adjectives'] = allvpdebate['transcript'].apply(get_adjectives)\n",
    "adj_count = [len(nltk.word_tokenize(t)) for t in allvpdebate.adjectives]\n",
    "allvpdebate['adj_count'] = adj_count"
   ]
  },
  {
   "cell_type": "code",
   "execution_count": 20,
   "metadata": {},
   "outputs": [
    {
     "data": {
      "image/png": "[encoded data removed]",
      "text/plain": [
       "<Figure size 640x480 with 1 Axes>"
      ]
     },
     "metadata": {},
     "output_type": "display_data"
    }
   ],
   "source": [
    "import matplotlib.pyplot as plt; plt.rcdefaults()\n",
    "import numpy as np\n",
    "import matplotlib.pyplot as plt\n",
    "\n",
    "aff = ['Mike Pence','Kamala Harris']\n",
    "mean_adj = [allvpdebate[allvpdebate.Aff == 'R'].adj_count.count(), allvpdebate[allvpdebate.Aff == 'D'].adj_count.count()]\n",
    "\n",
    "plt.bar(aff,mean_adj)\n",
    "plt.title('AVG ADJ')\n",
    "plt.ylabel('Average # of adjectives')\n",
    "plt.xlabel('Candidate')\n",
    "plt.savefig('adj_vp.png')\n",
    "plt.show()"
   ]
  },
  {
   "cell_type": "markdown",
   "metadata": {},
   "source": [
    "### Sixth Section"
   ]
  },
  {
   "cell_type": "code",
   "execution_count": 21,
   "metadata": {},
   "outputs": [
    {
     "data": {
      "text/plain": [
       "R    30\n",
       "D    21\n",
       "Name: Aff, dtype: int64"
      ]
     },
     "execution_count": 21,
     "metadata": {},
     "output_type": "execute_result"
    }
   ],
   "source": [
    "conv_speech = pd.read_csv(\"/Users/emmatarcson/Documents/data_science/RhetoricalFactor-analysis/data_sample/convspeeches.csv\")\n",
    "conv_speech = conv_speech[['Aff','Speech']]\n",
    "conv_speech.Aff.value_counts()"
   ]
  },
  {
   "cell_type": "code",
   "execution_count": 22,
   "metadata": {},
   "outputs": [],
   "source": [
    "dem = conv_speech[conv_speech.Aff == 'D'].Speech\n",
    "rep = conv_speech[conv_speech.Aff == 'R'].Speech\n",
    "\n",
    "demfull = str(list(dem.values)).replace(\"',\", '.').replace(\" '\",\" \").strip('[]').strip(\"''\")\n",
    "repfull = str(list(rep.values)).replace(\"',\", '.').replace(\" '\",\" \").strip('[]').strip(\"''\")"
   ]
  },
  {
   "cell_type": "code",
   "execution_count": 23,
   "metadata": {},
   "outputs": [
    {
     "data": {
      "text/html": [
       "<div>\n",
       "<style scoped>\n",
       "    .dataframe tbody tr th:only-of-type {\n",
       "        vertical-align: middle;\n",
       "    }\n",
       "\n",
       "    .dataframe tbody tr th {\n",
       "        vertical-align: top;\n",
       "    }\n",
       "\n",
       "    .dataframe thead th {\n",
       "        text-align: right;\n",
       "    }\n",
       "</style>\n",
       "<table border=\"1\" class=\"dataframe\">\n",
       "  <thead>\n",
       "    <tr style=\"text-align: right;\">\n",
       "      <th></th>\n",
       "      <th>Aff</th>\n",
       "      <th>Sent</th>\n",
       "    </tr>\n",
       "  </thead>\n",
       "  <tbody>\n",
       "    <tr>\n",
       "      <th>0</th>\n",
       "      <td>R</td>\n",
       "      <td>\"I'm Ben Carson, a retired neurosurgeon and a ...</td>\n",
       "    </tr>\n",
       "    <tr>\n",
       "      <th>1</th>\n",
       "      <td>R</td>\n",
       "      <td>Before I begin, I'd like to say that our heart...</td>\n",
       "    </tr>\n",
       "    <tr>\n",
       "      <th>2</th>\n",
       "      <td>R</td>\n",
       "      <td>As Jacob's mother has urged the country, let's...</td>\n",
       "    </tr>\n",
       "    <tr>\n",
       "      <th>3</th>\n",
       "      <td>R</td>\n",
       "      <td>America is great when we behave greatly.</td>\n",
       "    </tr>\n",
       "    <tr>\n",
       "      <th>4</th>\n",
       "      <td>R</td>\n",
       "      <td>In order to succeed and change, we must first ...</td>\n",
       "    </tr>\n",
       "    <tr>\n",
       "      <th>...</th>\n",
       "      <td>...</td>\n",
       "      <td>...</td>\n",
       "    </tr>\n",
       "    <tr>\n",
       "      <th>1094</th>\n",
       "      <td>D</td>\n",
       "      <td>Here's the truth, Donald Trump doesn't want an...</td>\n",
       "    </tr>\n",
       "    <tr>\n",
       "      <th>1095</th>\n",
       "      <td>D</td>\n",
       "      <td>So whether you plan to vote by mail or in pers...</td>\n",
       "    </tr>\n",
       "    <tr>\n",
       "      <th>1096</th>\n",
       "      <td>D</td>\n",
       "      <td>Don't let Donald Trump take that away from you.</td>\n",
       "    </tr>\n",
       "    <tr>\n",
       "      <th>1097</th>\n",
       "      <td>D</td>\n",
       "      <td>For accurate, up to date voting information th...</td>\n",
       "    </tr>\n",
       "    <tr>\n",
       "      <th>1098</th>\n",
       "      <td>D</td>\n",
       "      <td>One more time, text vote to 30330.\"</td>\n",
       "    </tr>\n",
       "  </tbody>\n",
       "</table>\n",
       "<p>3808 rows × 2 columns</p>\n",
       "</div>"
      ],
      "text/plain": [
       "     Aff                                               Sent\n",
       "0      R  \"I'm Ben Carson, a retired neurosurgeon and a ...\n",
       "1      R  Before I begin, I'd like to say that our heart...\n",
       "2      R  As Jacob's mother has urged the country, let's...\n",
       "3      R           America is great when we behave greatly.\n",
       "4      R  In order to succeed and change, we must first ...\n",
       "...   ..                                                ...\n",
       "1094   D  Here's the truth, Donald Trump doesn't want an...\n",
       "1095   D  So whether you plan to vote by mail or in pers...\n",
       "1096   D    Don't let Donald Trump take that away from you.\n",
       "1097   D  For accurate, up to date voting information th...\n",
       "1098   D                One more time, text vote to 30330.\"\n",
       "\n",
       "[3808 rows x 2 columns]"
      ]
     },
     "execution_count": 23,
     "metadata": {},
     "output_type": "execute_result"
    }
   ],
   "source": [
    "rep_speech = nltk.sent_tokenize(repfull)\n",
    "rep_speech2 = pd.DataFrame({'Aff':'R',\n",
    "                         'Sent': rep_speech})\n",
    "dem_speech = nltk.sent_tokenize(demfull)\n",
    "dem_speech2 = pd.DataFrame({'Aff':'D',\n",
    "                         'Sent': dem_speech})\n",
    "aff_sent = pd.concat([rep_speech2,dem_speech2])\n",
    "aff_sent"
   ]
  },
  {
   "cell_type": "code",
   "execution_count": 24,
   "metadata": {},
   "outputs": [],
   "source": [
    "def get_adjectives(text):\n",
    "    blob = TextBlob(text)\n",
    "    return ' '.join(word for (word,tag) in blob.tags if tag.startswith(\"JJ\"))\n",
    "\n",
    "aff_sent['adjectives'] = aff_sent['Sent'].apply(get_adjectives)\n",
    "adj_count = [len(nltk.word_tokenize(t)) for t in aff_sent.adjectives]\n",
    "aff_sent['adj_count'] = adj_count"
   ]
  },
  {
   "cell_type": "code",
   "execution_count": 25,
   "metadata": {},
   "outputs": [
    {
     "data": {
      "image/png": "[encoded data removed]",
      "text/plain": [
       "<Figure size 640x480 with 1 Axes>"
      ]
     },
     "metadata": {},
     "output_type": "display_data"
    }
   ],
   "source": [
    "import matplotlib.pyplot as plt; plt.rcdefaults()\n",
    "import numpy as np\n",
    "import matplotlib.pyplot as plt\n",
    "\n",
    "aff = ['R','D']\n",
    "mean_adj = [aff_sent[aff_sent.Aff == 'R'].adj_count.count(), aff_sent[aff_sent.Aff == 'D'].adj_count.count()]\n",
    "\n",
    "plt.bar(aff,mean_adj)\n",
    "plt.title('ADJ in Speech')\n",
    "plt.ylabel('# of adjectives')\n",
    "plt.xlabel('Aff')\n",
    "plt.savefig('adj_speech.png')\n",
    "plt.show()"
   ]
  },
  {
   "cell_type": "markdown",
   "metadata": {},
   "source": [
    "### Seventh Section"
   ]
  },
  {
   "cell_type": "code",
   "execution_count": 26,
   "metadata": {},
   "outputs": [
    {
     "data": {
      "text/plain": [
       "R    1581\n",
       "D    1527\n",
       "Name: Aff, dtype: int64"
      ]
     },
     "execution_count": 26,
     "metadata": {},
     "output_type": "execute_result"
    }
   ],
   "source": [
    "platform = pd.read_csv(\"/Users/emmatarcson/Documents/data_science/RhetoricalFactor-analysis/data2/platformsents.csv\")\n",
    "platform = platform[['Aff','sentences']]\n",
    "platform.Aff.value_counts()"
   ]
  },
  {
   "cell_type": "code",
   "execution_count": 27,
   "metadata": {},
   "outputs": [],
   "source": [
    "def get_adjectives(text):\n",
    "    blob = TextBlob(text)\n",
    "    return ' '.join(word for (word,tag) in blob.tags if tag.startswith(\"JJ\"))\n",
    "\n",
    "platform['adjectives'] = platform['sentences'].apply(get_adjectives)\n",
    "adj_count = [len(nltk.word_tokenize(t)) for t in platform.adjectives]\n",
    "platform['adj_count'] = adj_count"
   ]
  },
  {
   "cell_type": "code",
   "execution_count": 28,
   "metadata": {},
   "outputs": [
    {
     "data": {
      "image/png": "[encoded data removed]",
      "text/plain": [
       "<Figure size 640x480 with 1 Axes>"
      ]
     },
     "metadata": {},
     "output_type": "display_data"
    }
   ],
   "source": [
    "aff = ['R','D']\n",
    "mean_adj = [platform[platform.Aff == 'R'].adj_count.count(), platform[platform.Aff == 'D'].adj_count.count()]\n",
    "\n",
    "plt.bar(aff,mean_adj)\n",
    "plt.title('ADJ in Platform')\n",
    "plt.ylabel('# of adjectives')\n",
    "plt.xlabel('Aff')\n",
    "plt.savefig('adj_plat.png')\n",
    "plt.show()"
   ]
  },
  {
   "cell_type": "markdown",
   "metadata": {},
   "source": [
    "### Eighth Section"
   ]
  },
  {
   "cell_type": "code",
   "execution_count": 29,
   "metadata": {},
   "outputs": [
    {
     "data": {
      "image/png": "[encoded data removed]",
      "text/plain": [
       "<Figure size 640x480 with 1 Axes>"
      ]
     },
     "metadata": {},
     "output_type": "display_data"
    }
   ],
   "source": [
    "aff = ['Speech','Debate', 'Platform']\n",
    "mean_adj = [aff_sent.adj_count.mean(), alldebates.adj_count.mean(), platform.adj_count.mean()]\n",
    "\n",
    "plt.bar(aff,mean_adj)\n",
    "plt.title('AVG ADJ')\n",
    "plt.ylabel('Average # of adjectives')\n",
    "plt.xlabel('Mode')\n",
    "#plt.savefig('avg_adj_all.png')\n",
    "plt.show()"
   ]
  },
  {
   "cell_type": "code",
   "execution_count": 30,
   "metadata": {},
   "outputs": [
    {
     "data": {
      "image/png": "[encoded data removed]",
      "text/plain": [
       "<Figure size 640x480 with 1 Axes>"
      ]
     },
     "metadata": {},
     "output_type": "display_data"
    }
   ],
   "source": [
    "aff = ['Speech','Debate', 'Platform']\n",
    "mean_adj = [aff_sent.adj_count.count(), alldebates.adj_count.count(), platform.adj_count.count()]\n",
    "\n",
    "plt.bar(aff,mean_adj)\n",
    "plt.title('ADJ')\n",
    "plt.ylabel('# of adjectives')\n",
    "plt.xlabel('Mode')\n",
    "#plt.savefig('count_adj_all.png')\n",
    "plt.show()"
   ]
  },
  {
   "cell_type": "markdown",
   "metadata": {},
   "source": [
    "### Nineth Section"
   ]
  },
  {
   "cell_type": "code",
   "execution_count": 31,
   "metadata": {},
   "outputs": [
    {
     "data": {
      "text/plain": [
       "0.551219512195122"
      ]
     },
     "execution_count": 31,
     "metadata": {},
     "output_type": "execute_result"
    }
   ],
   "source": [
    "from sklearn.model_selection import train_test_split\n",
    "X_train, X_test, y_train, y_test = train_test_split(allpresdebate['adjectives'], allpresdebate['Aff'], random_state=0,\n",
    "                                  train_size=0.6) \n",
    "\n",
    "vectorizer = TfidfVectorizer(min_df=1, max_features=4000, stop_words='english')\n",
    "\n",
    "X_text_train = vectorizer.fit_transform(X_train)\n",
    "X_text_test = vectorizer.transform(X_test)\n",
    "\n",
    "from sklearn.svm import SVC \n",
    "svcmodel = SVC(kernel='linear', C=1E5)  \n",
    "svcmodel.fit(X_text_train, y_train)\n",
    "pred = svcmodel.predict(X_text_test)\n",
    "accuracy_score(y_test, pred)"
   ]
  },
  {
   "cell_type": "code",
   "execution_count": 32,
   "metadata": {},
   "outputs": [
    {
     "name": "stdout",
     "output_type": "stream",
     "text": [
      "D: tremendous, unconstitutional, beautiful, bad, uninterrupted, horrible, friendly, military, unethical, long, small, korean, smaller, open, high, tonight, dead, public, great, environmental, worse, black, young, free, little, president, vice, private, soon, nuclear, middle, solitary, best, right, different, ukrainian, economic, unwilling, isn, ve, better, low, wrong, real, old, big, republican, foreign, dangerous, minimum, good, ll, american, clear, federal, single, new, able, true, sure\n",
      "None: wrong, unwilling, old, friendly, open, free, vibrant, worse, bad, best, better, big, true, smaller, clear, tremendous, dead, successful, economic, soon, solitary, socialized, criminal, possible, sure, long, ukrainian, unethical, beautiful, biggest, korean, dangerous, great, ready, small, minimum, tonight, fantastic, right, different, environmental, black, robust, young, second, unconstitutional, public, specific, nuclear, foreign, good, federal, able, new, uninterrupted, ve, president, vice, american, final\n",
      "R: clear, minimum, unethical, nuclear, uninterrupted, unwilling, old, american, low, isn, middle, private, young, vice, environmental, real, smaller, ready, black, dead, possible, unconstitutional, high, better, soon, second, military, new, open, public, wrong, fantastic, important, dangerous, able, single, successful, great, beautiful, long, different, little, criminal, president, friendly, tremendous, small, best, worse, socialized, short, biggest, liberal, vibrant, horrible, good, ll, bad, big, ve\n"
     ]
    }
   ],
   "source": [
    "# part 1: presidential debate\n",
    "X_train, X_test, y_train, y_test = train_test_split(allpresdebate['adjectives'], allpresdebate['Aff'], random_state=0,\n",
    "                                  train_size=0.6)\n",
    "nbmodel = MultinomialNB()\n",
    "vectorizer = TfidfVectorizer(max_df=0.5, min_df=2,max_features=1500, stop_words='english') #using this to find vocab\n",
    "X_text_train = vectorizer.fit_transform(X_train)\n",
    "X_text_test = vectorizer.transform(X_test)\n",
    "\n",
    "\n",
    "nbmodel.fit(X_text_train, y_train)\n",
    "\n",
    "\n",
    "def print_top(vectorizer, clf, class_labels, n):\n",
    "    \"\"\"Prints features with the highest coefficient values, per class\"\"\"\n",
    "    feature_names = vectorizer.get_feature_names()\n",
    "    for i, class_label in enumerate(class_labels):\n",
    "        top = np.argsort(clf.coef_[i])[0-n:]\n",
    "        print(\"%s: %s\" % (class_label,\n",
    "              \", \".join(feature_names[j].replace(' ', '-') for j in top)))\n",
    "    \n",
    "\n",
    "print_top(vectorizer, nbmodel, nbmodel.classes_, 60)\n"
   ]
  },
  {
   "cell_type": "code",
   "execution_count": 33,
   "metadata": {},
   "outputs": [],
   "source": [
    "allall = pd.concat([allvpdebate, allpresdebate])\n",
    "def get_adjectives(text):\n",
    "    blob = TextBlob(text)\n",
    "    return ' '.join(word for (word,tag) in blob.tags if tag.startswith(\"JJ\"))\n",
    "\n",
    "allall['adjectives'] = allall['transcript'].apply(get_adjectives)\n",
    "adj_count = [len(nltk.word_tokenize(t)) for t in allall.adjectives]\n",
    "allall['adj_count'] = adj_count"
   ]
  },
  {
   "cell_type": "code",
   "execution_count": 34,
   "metadata": {},
   "outputs": [
    {
     "name": "stdout",
     "output_type": "stream",
     "text": [
      "D: lower, worried, minimum, significant, second, different, white, bipartisan, look, right, ukrainian, average, black, high, ve, social, transparent, clean, profit, new, affordable, military, low, national, common, little, ll, economic, russian, red, real, nuclear, private, great, renewable, better, preexisting, free, young, bright, foreign, let, complete, best, republican, wrong, public, big, single, safe, able, criminal, rid, important, true, good, responsible, clear, sure, american\n",
      "None: biggest, long, hasn, beautiful, korean, ukrainian, wealthy, best, foreign, black, white, dangerous, ready, second, right, huge, complicated, professional, minimum, rapid, public, environmental, economic, major, higher, robust, open, important, socialized, modern, unconstitutional, existential, peaceful, great, let, green, nuclear, specific, likely, ll, hardest, sick, different, able, small, young, racial, federal, fundamental, latest, good, new, presidential, president, vice, uninterrupted, american, ve, follow, final\n",
      "R: greatest, real, long, natural, challenging, responsible, historic, lowest, tiny, clean, likely, nuclear, xenophobic, able, massive, common, better, cleanest, unleashed, young, treated, vice, president, armed, terrible, socialized, single, green, fair, right, true, short, rid, new, different, second, worse, vibrant, average, clear, liberal, tremendous, important, military, small, little, economic, criminal, horrible, bad, strong, good, great, public, biggest, best, ll, big, ve, american\n"
     ]
    }
   ],
   "source": [
    "# part 2: all debates\n",
    "X_train, X_test, y_train, y_test = train_test_split(allall['adjectives'], allall['Aff'], random_state=0,\n",
    "                                  train_size=0.6)\n",
    "nbmodel = MultinomialNB()\n",
    "vectorizer = TfidfVectorizer(max_df=0.5, min_df=2,max_features=1500, stop_words='english') #using this to find vocab\n",
    "X_text_train = vectorizer.fit_transform(X_train)\n",
    "X_text_test = vectorizer.transform(X_test)\n",
    "\n",
    "\n",
    "nbmodel.fit(X_text_train, y_train)\n",
    "\n",
    "\n",
    "def print_top(vectorizer, clf, class_labels, n):\n",
    "    \"\"\"Prints features with the highest coefficient values, per class\"\"\"\n",
    "    feature_names = vectorizer.get_feature_names()\n",
    "    for i, class_label in enumerate(class_labels):\n",
    "        top = np.argsort(clf.coef_[i])[0-n:]\n",
    "        print(\"%s: %s\" % (class_label,\n",
    "              \", \".join(feature_names[j].replace(' ', '-') for j in top)))\n",
    "    \n",
    "\n",
    "print_top(vectorizer, nbmodel, nbmodel.classes_, 60)\n"
   ]
  },
  {
   "cell_type": "code",
   "execution_count": null,
   "metadata": {},
   "outputs": [],
   "source": []
  }
 ],
 "metadata": {
  "kernelspec": {
   "display_name": "Python 3",
   "language": "python",
   "name": "python3"
  },
  "language_info": {
   "codemirror_mode": {
    "name": "ipython",
    "version": 3
   },
   "file_extension": ".py",
   "mimetype": "text/x-python",
   "name": "python",
   "nbconvert_exporter": "python",
   "pygments_lexer": "ipython3",
   "version": "3.8.5"
  }
 },
 "nbformat": 4,
 "nbformat_minor": 4
}
