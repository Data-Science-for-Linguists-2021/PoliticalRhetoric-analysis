{
 "cells": [
  {
   "cell_type": "markdown",
   "metadata": {},
   "source": [
    "## Part 2: Vice Presidential and Presidential Debate Analysis\n",
    "* Debates are a tool for the candidates to appeal to an audience deciding who to vote for in the election. \n",
    "    * Viewers of these debates might already have a candidate in mind, but the audience isn't directed towards only one side, like the conventions. \n",
    "* This analysis will include a classifier, which will try to predict if a spoken line is republican or democratic.\n",
    "    * Goal: find key words used by each candidate to further their arguments. Also, find accuracy of the classifier for my hypothesis. \n",
    "* I will also be making a model based off of token length to see if speaking a lot is a persuasion choice made by the candidates. "
   ]
  },
  {
   "cell_type": "code",
   "execution_count": 2,
   "metadata": {},
   "outputs": [],
   "source": [
    "import pandas as pd\n",
    "import numpy as np\n",
    "import nltk\n",
    "import sklearn\n",
    "from sklearn.feature_extraction.text import CountVectorizer\n",
    "from sklearn.feature_extraction.text import TfidfVectorizer\n",
    "from sklearn.naive_bayes import MultinomialNB\n",
    "from sklearn.pipeline import make_pipeline\n",
    "from sklearn.metrics import accuracy_score\n",
    "from sklearn.metrics import confusion_matrix\n",
    "import seaborn as sns        # seaborn graphical package\n",
    "sns.set_style('darkgrid')\n",
    "import matplotlib.pyplot as plt"
   ]
  },
  {
   "cell_type": "code",
   "execution_count": 3,
   "metadata": {},
   "outputs": [
    {
     "data": {
      "text/plain": [
       "R    193\n",
       "D    131\n",
       "Name: Aff, dtype: int64"
      ]
     },
     "execution_count": 3,
     "metadata": {},
     "output_type": "execute_result"
    }
   ],
   "source": [
    "presdebate = pd.read_csv(\"/Users/emmatarcson/Documents/data_science/RhetoricalFactor-analysis/data/only_D_and_R/welkerPRESdebate.csv\")\n",
    "presdebate = presdebate[['Aff','transcript']]\n",
    "presdebate.Aff.value_counts()"
   ]
  },
  {
   "cell_type": "code",
   "execution_count": 4,
   "metadata": {},
   "outputs": [
    {
     "data": {
      "text/plain": [
       "SVC(C=100000.0, kernel='linear')"
      ]
     },
     "execution_count": 4,
     "metadata": {},
     "output_type": "execute_result"
    }
   ],
   "source": [
    "from sklearn.model_selection import train_test_split\n",
    "X_train, X_test, y_train, y_test = train_test_split(presdebate['transcript'], presdebate['Aff'], random_state=0,\n",
    "                                  train_size=0.6)\n",
    "vectorizer = TfidfVectorizer(min_df=1, max_features=4000, tokenizer=nltk.word_tokenize)\n",
    "\n",
    "X_text_train = vectorizer.fit_transform(X_train)\n",
    "X_text_test = vectorizer.transform(X_test)\n",
    "\n",
    "from sklearn.svm import SVC \n",
    "svcmodel = SVC(kernel='linear', C=1E5)  \n",
    "svcmodel.fit(X_text_train, y_train)"
   ]
  },
  {
   "cell_type": "code",
   "execution_count": 5,
   "metadata": {},
   "outputs": [
    {
     "name": "stdout",
     "output_type": "stream",
     "text": [
      "295    R\n",
      "65     R\n",
      "15     D\n",
      "274    D\n",
      "140    D\n",
      "153    D\n",
      "101    D\n",
      "234    R\n",
      "63     D\n",
      "159    R\n",
      "184    D\n",
      "181    R\n",
      "97     D\n",
      "219    D\n",
      "215    D\n",
      "64     R\n",
      "26     R\n",
      "256    R\n",
      "92     R\n",
      "108    R\n",
      "Name: Aff, dtype: object\n",
      "['R' 'R' 'D' 'R' 'D' 'D' 'D' 'R' 'R' 'R' 'D' 'R' 'D' 'D' 'R' 'R' 'R' 'R'\n",
      " 'D' 'R']\n"
     ]
    }
   ],
   "source": [
    "pred = svcmodel.predict(X_text_test)\n",
    "print(y_test[:20])\n",
    "print(pred[:20])"
   ]
  },
  {
   "cell_type": "code",
   "execution_count": 6,
   "metadata": {},
   "outputs": [
    {
     "data": {
      "text/plain": [
       "0.6615384615384615"
      ]
     },
     "execution_count": 6,
     "metadata": {},
     "output_type": "execute_result"
    }
   ],
   "source": [
    "accuracy_score(y_test, pred) #wow, not that good with a debate. these are just with sentences. "
   ]
  },
  {
   "cell_type": "code",
   "execution_count": 7,
   "metadata": {},
   "outputs": [
    {
     "data": {
      "text/plain": [
       "79"
      ]
     },
     "execution_count": 7,
     "metadata": {},
     "output_type": "execute_result"
    }
   ],
   "source": [
    "letssee = [x for x in pred if x == 'R']\n",
    "len(letssee) #how many times it predicted R"
   ]
  },
  {
   "cell_type": "code",
   "execution_count": 8,
   "metadata": {},
   "outputs": [
    {
     "name": "stderr",
     "output_type": "stream",
     "text": [
      "/Users/emmatarcson/opt/anaconda3/lib/python3.8/site-packages/sklearn/utils/validation.py:67: FutureWarning: Pass labels=['D', 'R'] as keyword args. From version 0.25 passing these as positional arguments will result in an error\n",
      "  warnings.warn(\"Pass {} as keyword args. From version 0.25 \"\n"
     ]
    },
    {
     "data": {
      "image/png": "[encoded data removed]",
      "text/plain": [
       "<Figure size 432x288 with 2 Axes>"
      ]
     },
     "metadata": {},
     "output_type": "display_data"
    }
   ],
   "source": [
    "from sklearn.metrics import confusion_matrix\n",
    "labels = ['D','R']\n",
    "mat = confusion_matrix(y_test, pred, labels)\n",
    "sns.heatmap(mat, square=True, annot=True, fmt='d', cmap=\"Reds\",\n",
    "           xticklabels=labels, yticklabels=labels)\n",
    "plt.xlabel('predicted label')\n",
    "plt.ylabel('true label')\n",
    "plt.show()"
   ]
  },
  {
   "cell_type": "markdown",
   "metadata": {},
   "source": [
    "Looks like it guessed 'R' wrongly a lot. "
   ]
  },
  {
   "cell_type": "code",
   "execution_count": 9,
   "metadata": {},
   "outputs": [
    {
     "data": {
      "text/plain": [
       "R    131\n",
       "D    131\n",
       "Name: Aff, dtype: int64"
      ]
     },
     "execution_count": 9,
     "metadata": {},
     "output_type": "execute_result"
    }
   ],
   "source": [
    "# Now let's do it with cleaner data\n",
    "\n",
    "just_R = presdebate[presdebate.Aff == 'R']\n",
    "just_R = just_R[:131]\n",
    "just_D = presdebate[presdebate.Aff == 'D']\n",
    "presdebate2 = pd.concat([just_R, just_D])\n",
    "presdebate2.Aff.value_counts()"
   ]
  },
  {
   "cell_type": "code",
   "execution_count": 10,
   "metadata": {},
   "outputs": [
    {
     "data": {
      "text/plain": [
       "0.6857142857142857"
      ]
     },
     "execution_count": 10,
     "metadata": {},
     "output_type": "execute_result"
    }
   ],
   "source": [
    "from sklearn.model_selection import train_test_split\n",
    "X_train, X_test, y_train, y_test = train_test_split(presdebate2['transcript'], presdebate2['Aff'], random_state=0,\n",
    "                                  train_size=0.6)\n",
    "vectorizer = TfidfVectorizer(min_df=1, max_features=4000, tokenizer=nltk.word_tokenize)\n",
    "\n",
    "X_text_train = vectorizer.fit_transform(X_train)\n",
    "X_text_test = vectorizer.transform(X_test)\n",
    "\n",
    "from sklearn.svm import SVC \n",
    "svcmodel = SVC(kernel='linear', C=1E5)  \n",
    "svcmodel.fit(X_text_train, y_train)\n",
    "pred = svcmodel.predict(X_text_test)\n",
    "accuracy_score(y_test, pred) #worked a little better but nothing satisying. "
   ]
  },
  {
   "cell_type": "code",
   "execution_count": 240,
   "metadata": {},
   "outputs": [],
   "source": [
    "# the coefficent flattens with binary classes, so I'm still currently looking for a way to find the most informative\n",
    "# features :/\n",
    "\n",
    "# otherwise, I will need to use the csv file with the all three speakers"
   ]
  },
  {
   "cell_type": "code",
   "execution_count": 11,
   "metadata": {},
   "outputs": [
    {
     "data": {
      "text/plain": [
       "R       193\n",
       "None    188\n",
       "D       131\n",
       "Name: Aff, dtype: int64"
      ]
     },
     "execution_count": 11,
     "metadata": {},
     "output_type": "execute_result"
    }
   ],
   "source": [
    "allpresdebate = pd.read_csv(\"/Users/emmatarcson/Documents/data_science/RhetoricalFactor-analysis/data/all_speakers/presdebatewelker.csv\")\n",
    "allpresdebate = allpresdebate[['Aff','transcript']]\n",
    "allpresdebate.Aff.value_counts()"
   ]
  },
  {
   "cell_type": "code",
   "execution_count": 12,
   "metadata": {},
   "outputs": [],
   "source": [
    "# evening them out, otherwise it was barely guessing 'D'\n",
    "just_R = allpresdebate[allpresdebate.Aff == 'R']\n",
    "just_R = just_R[:131]\n",
    "just_none = allpresdebate[allpresdebate.Aff == 'None']\n",
    "just_none = just_none[:131]\n",
    "just_D = allpresdebate[allpresdebate.Aff == 'D']\n",
    "allpresdebate2 = pd.concat([just_R, just_D, just_none])\n",
    "allpresdebate2.Aff.value_counts()\n",
    "shuf_data = allpresdebate2.sample(frac=1, random_state=1)"
   ]
  },
  {
   "cell_type": "code",
   "execution_count": 13,
   "metadata": {},
   "outputs": [
    {
     "data": {
      "text/plain": [
       "0.7784810126582279"
      ]
     },
     "execution_count": 13,
     "metadata": {},
     "output_type": "execute_result"
    }
   ],
   "source": [
    "X_train, X_test, y_train, y_test = train_test_split(shuf_data['transcript'], shuf_data['Aff'], random_state=0,\n",
    "                                  train_size=0.6)\n",
    "nbmodel = MultinomialNB()\n",
    "vectorizer = TfidfVectorizer(max_df=0.5, min_df=2,max_features=1500, stop_words='english') #using this to find vocab\n",
    "X_text_train = vectorizer.fit_transform(X_train)\n",
    "X_text_test = vectorizer.transform(X_test)\n",
    "\n",
    "\n",
    "nbmodel.fit(X_text_train, y_train)\n",
    "pred = nbmodel.predict(X_text_test)\n",
    "accuracy_score(y_test, pred) \n",
    "#the accuracy actually got better... maybe this is because features become more polarized when there is neutral weight?"
   ]
  },
  {
   "cell_type": "code",
   "execution_count": 14,
   "metadata": {},
   "outputs": [
    {
     "data": {
      "text/plain": [
       "array([[-5.55251847, -5.75933542, -6.57989899, ..., -6.47886584,\n",
       "        -6.44956437, -6.12571365],\n",
       "       [-5.91108231, -6.18081174, -6.17628992, ..., -6.54489505,\n",
       "        -6.27528041, -6.36434925],\n",
       "       [-5.41725611, -6.27436623, -6.3043343 , ..., -5.92007281,\n",
       "        -6.23543389, -6.5677607 ]])"
      ]
     },
     "execution_count": 14,
     "metadata": {},
     "output_type": "execute_result"
    }
   ],
   "source": [
    "nbmodel.coef_ #nice! we actually have separated coefficent lists this time"
   ]
  },
  {
   "cell_type": "code",
   "execution_count": 15,
   "metadata": {},
   "outputs": [
    {
     "data": {
      "text/plain": [
       "42"
      ]
     },
     "execution_count": 15,
     "metadata": {},
     "output_type": "execute_result"
    }
   ],
   "source": [
    "letssee = [x for x in pred if x == 'D']\n",
    "len(letssee) #how many times it predicted R, this just makes sure the confusion matrix has the right labels"
   ]
  },
  {
   "cell_type": "code",
   "execution_count": 16,
   "metadata": {},
   "outputs": [
    {
     "name": "stderr",
     "output_type": "stream",
     "text": [
      "/Users/emmatarcson/opt/anaconda3/lib/python3.8/site-packages/sklearn/utils/validation.py:67: FutureWarning: Pass labels=['D', 'R', 'None'] as keyword args. From version 0.25 passing these as positional arguments will result in an error\n",
      "  warnings.warn(\"Pass {} as keyword args. From version 0.25 \"\n"
     ]
    },
    {
     "data": {
      "image/png": "[encoded data removed]",
      "text/plain": [
       "<Figure size 432x288 with 2 Axes>"
      ]
     },
     "metadata": {},
     "output_type": "display_data"
    }
   ],
   "source": [
    "# it never predicted as m\n",
    "from sklearn.metrics import confusion_matrix\n",
    "labels = ['D','R','None']\n",
    "mat = confusion_matrix(y_test, pred, labels)\n",
    "sns.heatmap(mat, square=True, annot=True, fmt='d', cmap=\"Reds\",\n",
    "           xticklabels=labels, yticklabels=labels)\n",
    "plt.xlabel('predicted label')\n",
    "plt.ylabel('true label')\n",
    "plt.show() "
   ]
  },
  {
   "cell_type": "code",
   "execution_count": 17,
   "metadata": {},
   "outputs": [
    {
     "name": "stdout",
     "output_type": "stream",
     "text": [
      "D: lot, years, clear, plan, guy, healthcare, industry, 000, united, crosstalk, money, american, know, oil, transition, come, republican, didn, things, wrong, deal, look, don, stop, states, president, 00, talking, fracking, fact, make, people, did, sure, china, way, respond, said, true, going\n",
      "None: hill, capitol, haven, american, ve, section, tell, need, new, ask, immigration, questions, reaction, 10, uninterrupted, 30, korea, recently, gentlemen, north, minutes, families, mr, follow, respond, want, said, seconds, right, talk, question, going, quickly, okay, response, biden, vice, let, trump, president\n",
      "R: politician, soon, kristen, places, big, 28, country, built, different, gave, million, doesn, did, cages, ago, typical, respond, know, got, crosstalk, ve, didn, years, china, thing, said, work, like, going, just, people, 00, doing, say, joe, money, come, think, excuse, don\n"
     ]
    }
   ],
   "source": [
    "def print_top(vectorizer, clf, class_labels, n):\n",
    "    \"\"\"Prints features with the highest coefficient values, per class\"\"\"\n",
    "    feature_names = vectorizer.get_feature_names()\n",
    "    for i, class_label in enumerate(class_labels):\n",
    "        top = np.argsort(clf.coef_[i])[0-n:]\n",
    "        print(\"%s: %s\" % (class_label,\n",
    "              \", \".join(feature_names[j].replace(' ', '-') for j in top)))\n",
    "    \n",
    "\n",
    "print_top(vectorizer, nbmodel, nbmodel.classes_, 40)"
   ]
  },
  {
   "cell_type": "markdown",
   "metadata": {},
   "source": [
    "* joe, joe, joe.. fracking...\n",
    "* D: 'fact'? -> people at home watching the debate and hear 'fact'... \n",
    "* it does seem like they are using some rhetorically weighted words like 'healthcare', 'united', 'immigration'\n",
    "* with debates, I expect like super heavy words that pull people's attention and whatnot\n",
    "* honestly, looking at this, I feel like I could predict correctly which is which\n",
    "    * that being said, though, the classifier was a little worse that the speeches, which says to me that debates use speech that will attract both sides? Or maybe since they both had to answer questions about specific topics, which makes it interesting that there was still a bit of weight tied to certain topic words. "
   ]
  },
  {
   "cell_type": "code",
   "execution_count": 31,
   "metadata": {},
   "outputs": [
    {
     "data": {
      "text/plain": [
       "'So as you know, 2.2 million people modeled out, were expected to die. We closed up the greatest economy in the world in order to fight this horrible disease that came from China. It’s a worldwide pandemic. It’s all over the world. You see the spikes in Europe and many other places right now. If you notice, the mortality rate is down 85%. The excess mortality rate is way down and much lower than almost any other country. And we’re fighting it and we’re fighting it hard. There is a spike. There was a spike in Florida and it’s now gone.'"
      ]
     },
     "execution_count": 31,
     "metadata": {},
     "output_type": "execute_result"
    }
   ],
   "source": [
    "# I'm gonna add more features\n",
    "\n",
    "presdebate.transcript[1]"
   ]
  },
  {
   "cell_type": "code",
   "execution_count": 300,
   "metadata": {},
   "outputs": [],
   "source": [
    "import re\n",
    "trans_toks = [nltk.word_tokenize(re.sub(r'[^\\w+ ]', '', t.lower())) for t in presdebate['transcript']]\n",
    "trans_tok_lens = [len(t) for t in trans_toks]\n",
    "type_len = [len(set(t)) for t in trans_toks]\n",
    "TTR = [len(set(t))/len(t) for t in trans_toks]\n",
    "\n",
    "presdebate['Toks'] = trans_toks\n",
    "presdebate['Token_count'] = trans_tok_lens\n",
    "presdebate['Type_count'] = type_len\n",
    "presdebate['TTR'] = TTR # might have to get rid of words that only have a couple words"
   ]
  },
  {
   "cell_type": "code",
   "execution_count": 301,
   "metadata": {},
   "outputs": [
    {
     "data": {
      "text/html": [
       "<div>\n",
       "<style scoped>\n",
       "    .dataframe tbody tr th:only-of-type {\n",
       "        vertical-align: middle;\n",
       "    }\n",
       "\n",
       "    .dataframe tbody tr th {\n",
       "        vertical-align: top;\n",
       "    }\n",
       "\n",
       "    .dataframe thead th {\n",
       "        text-align: right;\n",
       "    }\n",
       "</style>\n",
       "<table border=\"1\" class=\"dataframe\">\n",
       "  <thead>\n",
       "    <tr style=\"text-align: right;\">\n",
       "      <th></th>\n",
       "      <th>Aff</th>\n",
       "      <th>transcript</th>\n",
       "      <th>Toks</th>\n",
       "      <th>Token_count</th>\n",
       "      <th>Type_count</th>\n",
       "      <th>TTR</th>\n",
       "    </tr>\n",
       "  </thead>\n",
       "  <tbody>\n",
       "    <tr>\n",
       "      <th>0</th>\n",
       "      <td>R</td>\n",
       "      <td>How are you doing? How are you?</td>\n",
       "      <td>[how, are, you, doing, how, are, you]</td>\n",
       "      <td>7</td>\n",
       "      <td>4</td>\n",
       "      <td>0.571429</td>\n",
       "    </tr>\n",
       "    <tr>\n",
       "      <th>1</th>\n",
       "      <td>R</td>\n",
       "      <td>So as you know, 2.2 million people modeled out...</td>\n",
       "      <td>[so, as, you, know, 22, million, people, model...</td>\n",
       "      <td>101</td>\n",
       "      <td>68</td>\n",
       "      <td>0.673267</td>\n",
       "    </tr>\n",
       "    <tr>\n",
       "      <th>2</th>\n",
       "      <td>R</td>\n",
       "      <td>There was a very big spike in Texas. It’s now ...</td>\n",
       "      <td>[there, was, a, very, big, spike, in, texas, i...</td>\n",
       "      <td>73</td>\n",
       "      <td>42</td>\n",
       "      <td>0.575342</td>\n",
       "    </tr>\n",
       "    <tr>\n",
       "      <th>3</th>\n",
       "      <td>R</td>\n",
       "      <td>I can tell you from personal experience, I was...</td>\n",
       "      <td>[i, can, tell, you, from, personal, experience...</td>\n",
       "      <td>191</td>\n",
       "      <td>106</td>\n",
       "      <td>0.554974</td>\n",
       "    </tr>\n",
       "    <tr>\n",
       "      <th>4</th>\n",
       "      <td>D</td>\n",
       "      <td>220,000 Americans dead. You hear nothing else ...</td>\n",
       "      <td>[220000, americans, dead, you, hear, nothing, ...</td>\n",
       "      <td>102</td>\n",
       "      <td>70</td>\n",
       "      <td>0.686275</td>\n",
       "    </tr>\n",
       "    <tr>\n",
       "      <th>...</th>\n",
       "      <td>...</td>\n",
       "      <td>...</td>\n",
       "      <td>...</td>\n",
       "      <td>...</td>\n",
       "      <td>...</td>\n",
       "      <td>...</td>\n",
       "    </tr>\n",
       "    <tr>\n",
       "      <th>319</th>\n",
       "      <td>R</td>\n",
       "      <td>Before the plague came in, just before, I was ...</td>\n",
       "      <td>[before, the, plague, came, in, just, before, ...</td>\n",
       "      <td>76</td>\n",
       "      <td>53</td>\n",
       "      <td>0.697368</td>\n",
       "    </tr>\n",
       "    <tr>\n",
       "      <th>320</th>\n",
       "      <td>R</td>\n",
       "      <td>Success is going to bring us together. We are ...</td>\n",
       "      <td>[success, is, going, to, bring, us, together, ...</td>\n",
       "      <td>71</td>\n",
       "      <td>53</td>\n",
       "      <td>0.746479</td>\n",
       "    </tr>\n",
       "    <tr>\n",
       "      <th>321</th>\n",
       "      <td>D</td>\n",
       "      <td>I will say, I’m an American President. I repre...</td>\n",
       "      <td>[i, will, say, im, an, american, president, i,...</td>\n",
       "      <td>71</td>\n",
       "      <td>42</td>\n",
       "      <td>0.591549</td>\n",
       "    </tr>\n",
       "    <tr>\n",
       "      <th>322</th>\n",
       "      <td>D</td>\n",
       "      <td>We can grow this economy, we can deal with the...</td>\n",
       "      <td>[we, can, grow, this, economy, we, can, deal, ...</td>\n",
       "      <td>103</td>\n",
       "      <td>70</td>\n",
       "      <td>0.679612</td>\n",
       "    </tr>\n",
       "    <tr>\n",
       "      <th>323</th>\n",
       "      <td>D</td>\n",
       "      <td>Thank you.</td>\n",
       "      <td>[thank, you]</td>\n",
       "      <td>2</td>\n",
       "      <td>2</td>\n",
       "      <td>1.000000</td>\n",
       "    </tr>\n",
       "  </tbody>\n",
       "</table>\n",
       "<p>324 rows × 6 columns</p>\n",
       "</div>"
      ],
      "text/plain": [
       "    Aff                                         transcript  \\\n",
       "0     R                    How are you doing? How are you?   \n",
       "1     R  So as you know, 2.2 million people modeled out...   \n",
       "2     R  There was a very big spike in Texas. It’s now ...   \n",
       "3     R  I can tell you from personal experience, I was...   \n",
       "4     D  220,000 Americans dead. You hear nothing else ...   \n",
       "..   ..                                                ...   \n",
       "319   R  Before the plague came in, just before, I was ...   \n",
       "320   R  Success is going to bring us together. We are ...   \n",
       "321   D  I will say, I’m an American President. I repre...   \n",
       "322   D  We can grow this economy, we can deal with the...   \n",
       "323   D                                         Thank you.   \n",
       "\n",
       "                                                  Toks  Token_count  \\\n",
       "0                [how, are, you, doing, how, are, you]            7   \n",
       "1    [so, as, you, know, 22, million, people, model...          101   \n",
       "2    [there, was, a, very, big, spike, in, texas, i...           73   \n",
       "3    [i, can, tell, you, from, personal, experience...          191   \n",
       "4    [220000, americans, dead, you, hear, nothing, ...          102   \n",
       "..                                                 ...          ...   \n",
       "319  [before, the, plague, came, in, just, before, ...           76   \n",
       "320  [success, is, going, to, bring, us, together, ...           71   \n",
       "321  [i, will, say, im, an, american, president, i,...           71   \n",
       "322  [we, can, grow, this, economy, we, can, deal, ...          103   \n",
       "323                                       [thank, you]            2   \n",
       "\n",
       "     Type_count       TTR  \n",
       "0             4  0.571429  \n",
       "1            68  0.673267  \n",
       "2            42  0.575342  \n",
       "3           106  0.554974  \n",
       "4            70  0.686275  \n",
       "..          ...       ...  \n",
       "319          53  0.697368  \n",
       "320          53  0.746479  \n",
       "321          42  0.591549  \n",
       "322          70  0.679612  \n",
       "323           2  1.000000  \n",
       "\n",
       "[324 rows x 6 columns]"
      ]
     },
     "execution_count": 301,
     "metadata": {},
     "output_type": "execute_result"
    }
   ],
   "source": [
    "presdebate "
   ]
  },
  {
   "cell_type": "code",
   "execution_count": 18,
   "metadata": {},
   "outputs": [
    {
     "data": {
      "text/plain": [
       "R    113\n",
       "D     94\n",
       "Name: Aff, dtype: int64"
      ]
     },
     "execution_count": 18,
     "metadata": {},
     "output_type": "execute_result"
    }
   ],
   "source": [
    "vpdebate = pd.read_csv(\"/Users/emmatarcson/Documents/data_science/RhetoricalFactor-analysis/data/only_D_and_R/pageVPdebate.csv\")\n",
    "vpdebate = vpdebate[['Aff','transcript']]\n",
    "vpdebate.Aff.value_counts()"
   ]
  },
  {
   "cell_type": "code",
   "execution_count": 19,
   "metadata": {},
   "outputs": [
    {
     "data": {
      "text/plain": [
       "0.7831325301204819"
      ]
     },
     "execution_count": 19,
     "metadata": {},
     "output_type": "execute_result"
    }
   ],
   "source": [
    "from sklearn.model_selection import train_test_split\n",
    "X_train, X_test, y_train, y_test = train_test_split(vpdebate['transcript'], vpdebate['Aff'], random_state=0,\n",
    "                                  train_size=0.6)\n",
    "vectorizer = TfidfVectorizer(min_df=1, max_features=4000, tokenizer=nltk.word_tokenize)\n",
    "\n",
    "X_text_train = vectorizer.fit_transform(X_train)\n",
    "X_text_test = vectorizer.transform(X_test)\n",
    "\n",
    "from sklearn.svm import SVC \n",
    "svcmodel = SVC(kernel='linear', C=1E5)  \n",
    "svcmodel.fit(X_text_train, y_train)\n",
    "pred = svcmodel.predict(X_text_test)\n",
    "accuracy_score(y_test, pred)"
   ]
  },
  {
   "cell_type": "code",
   "execution_count": 20,
   "metadata": {},
   "outputs": [
    {
     "data": {
      "text/plain": [
       "None    120\n",
       "R       113\n",
       "D        94\n",
       "Name: Aff, dtype: int64"
      ]
     },
     "execution_count": 20,
     "metadata": {},
     "output_type": "execute_result"
    }
   ],
   "source": [
    "allvpdebate = pd.read_csv(\"/Users/emmatarcson/Documents/data_science/RhetoricalFactor-analysis/data/all_speakers/pagedebate2020.csv\")\n",
    "allvpdebate = allvpdebate[['Aff','transcript']]\n",
    "allvpdebate.Aff.value_counts()"
   ]
  },
  {
   "cell_type": "code",
   "execution_count": 21,
   "metadata": {},
   "outputs": [],
   "source": [
    "just_R = allvpdebate[allvpdebate.Aff == 'R']\n",
    "just_R = just_R[:94]\n",
    "just_none = allvpdebate[allvpdebate.Aff == 'None']\n",
    "just_none = just_none[:94]\n",
    "just_D = allvpdebate[allvpdebate.Aff == 'D']\n",
    "allvpdebate2 = pd.concat([just_R, just_D, just_none])\n",
    "allvpdebate2.Aff.value_counts()\n",
    "shuf_data = allvpdebate2.sample(frac=1, random_state=1)"
   ]
  },
  {
   "cell_type": "code",
   "execution_count": 22,
   "metadata": {},
   "outputs": [
    {
     "data": {
      "text/plain": [
       "0.7345132743362832"
      ]
     },
     "execution_count": 22,
     "metadata": {},
     "output_type": "execute_result"
    }
   ],
   "source": [
    "X_train, X_test, y_train, y_test = train_test_split(shuf_data['transcript'], shuf_data['Aff'], random_state=0,\n",
    "                                  train_size=0.6)\n",
    "nbmodel = MultinomialNB()\n",
    "vectorizer = TfidfVectorizer(max_df=0.5, min_df=2,max_features=1500, stop_words='english') #using this to find vocab\n",
    "X_text_train = vectorizer.fit_transform(X_train)\n",
    "X_text_test = vectorizer.transform(X_test)\n",
    "\n",
    "\n",
    "nbmodel.fit(X_text_train, y_train)\n",
    "pred = nbmodel.predict(X_text_test)\n",
    "accuracy_score(y_test, pred) "
   ]
  },
  {
   "cell_type": "code",
   "execution_count": 23,
   "metadata": {},
   "outputs": [
    {
     "name": "stdout",
     "output_type": "stream",
     "text": [
      "D: future, record, calm, justice, respond, country, criminal, united, time, great, doesn, need, 000, states, packing, mr, vice, administration, based, like, stage, means, talk, fact, leadership, jobs, american, trump, president, donald, issue, know, america, said, thank, biden, speaking, people, let, joe\n",
      "None: tonight, right, good, presidential, question, make, voters, time, segue, court, covid, trump, information, course, china, death, think, need, uninterrupted, trying, important, ve, administration, talk, 15, seconds, americans, minutes, issue, topic, respond, yes, chance, want, harris, senator, president, pence, vice, thank\n",
      "R: china, jobs, pandemic, economy, really, reality, regard, year, just, like, question, know, answer, coronavirus, states, continue, united, believe, said, court, look, supreme, america, did, green, million, joe, deal, biden, years, new, donald, senator, going, people, ve, trump, president, susan, american\n"
     ]
    }
   ],
   "source": [
    "def print_top(vectorizer, clf, class_labels, n):\n",
    "    \"\"\"Prints features with the highest coefficient values, per class\"\"\"\n",
    "    feature_names = vectorizer.get_feature_names()\n",
    "    for i, class_label in enumerate(class_labels):\n",
    "        top = np.argsort(clf.coef_[i])[0-n:]\n",
    "        print(\"%s: %s\" % (class_label,\n",
    "              \", \".join(feature_names[j].replace(' ', '-') for j in top)))\n",
    "    \n",
    "\n",
    "print_top(vectorizer, nbmodel, nbmodel.classes_, 40)"
   ]
  },
  {
   "cell_type": "code",
   "execution_count": 314,
   "metadata": {},
   "outputs": [],
   "source": [
    "import re\n",
    "trans_toks = [nltk.word_tokenize(re.sub(r'[^\\w+ ]', '', t.lower())) for t in vpdebate['transcript']]\n",
    "trans_tok_lens = [len(t) for t in trans_toks]\n",
    "type_len = [len(set(t)) for t in trans_toks]\n",
    "TTR = [len(set(t))/len(t) for t in trans_toks]\n",
    "\n",
    "vpdebate['Toks'] = trans_toks\n",
    "vpdebate['Token_count'] = trans_tok_lens\n",
    "vpdebate['Type_count'] = type_len\n",
    "vpdebate['TTR'] = TTR # might have to get rid of words that only have a couple words"
   ]
  },
  {
   "cell_type": "code",
   "execution_count": 315,
   "metadata": {},
   "outputs": [
    {
     "data": {
      "text/html": [
       "<div>\n",
       "<style scoped>\n",
       "    .dataframe tbody tr th:only-of-type {\n",
       "        vertical-align: middle;\n",
       "    }\n",
       "\n",
       "    .dataframe tbody tr th {\n",
       "        vertical-align: top;\n",
       "    }\n",
       "\n",
       "    .dataframe thead th {\n",
       "        text-align: right;\n",
       "    }\n",
       "</style>\n",
       "<table border=\"1\" class=\"dataframe\">\n",
       "  <thead>\n",
       "    <tr style=\"text-align: right;\">\n",
       "      <th></th>\n",
       "      <th>Aff</th>\n",
       "      <th>transcript</th>\n",
       "      <th>Toks</th>\n",
       "      <th>Token_count</th>\n",
       "      <th>Type_count</th>\n",
       "      <th>TTR</th>\n",
       "    </tr>\n",
       "  </thead>\n",
       "  <tbody>\n",
       "    <tr>\n",
       "      <th>0</th>\n",
       "      <td>D</td>\n",
       "      <td>Thank you, Susan. Well, the American people ha...</td>\n",
       "      <td>[thank, you, susan, well, the, american, peopl...</td>\n",
       "      <td>146</td>\n",
       "      <td>87</td>\n",
       "      <td>0.595890</td>\n",
       "    </tr>\n",
       "    <tr>\n",
       "      <th>1</th>\n",
       "      <td>D</td>\n",
       "      <td>Can you imagine if you knew on January 28th, a...</td>\n",
       "      <td>[can, you, imagine, if, you, knew, on, january...</td>\n",
       "      <td>177</td>\n",
       "      <td>87</td>\n",
       "      <td>0.491525</td>\n",
       "    </tr>\n",
       "    <tr>\n",
       "      <th>2</th>\n",
       "      <td>D</td>\n",
       "      <td>… right to reelection based on this.</td>\n",
       "      <td>[right, to, reelection, based, on, this]</td>\n",
       "      <td>6</td>\n",
       "      <td>6</td>\n",
       "      <td>1.000000</td>\n",
       "    </tr>\n",
       "    <tr>\n",
       "      <th>3</th>\n",
       "      <td>R</td>\n",
       "      <td>Susan, thank you. And I want to thank the Comm...</td>\n",
       "      <td>[susan, thank, you, and, i, want, to, thank, t...</td>\n",
       "      <td>163</td>\n",
       "      <td>108</td>\n",
       "      <td>0.662577</td>\n",
       "    </tr>\n",
       "    <tr>\n",
       "      <th>4</th>\n",
       "      <td>R</td>\n",
       "      <td>And I believe it saved hundreds of thousands o...</td>\n",
       "      <td>[and, i, believe, it, saved, hundreds, of, tho...</td>\n",
       "      <td>198</td>\n",
       "      <td>118</td>\n",
       "      <td>0.595960</td>\n",
       "    </tr>\n",
       "    <tr>\n",
       "      <th>...</th>\n",
       "      <td>...</td>\n",
       "      <td>...</td>\n",
       "      <td>...</td>\n",
       "      <td>...</td>\n",
       "      <td>...</td>\n",
       "      <td>...</td>\n",
       "    </tr>\n",
       "    <tr>\n",
       "      <th>202</th>\n",
       "      <td>R</td>\n",
       "      <td>I look at the relationship between Justice Rut...</td>\n",
       "      <td>[i, look, at, the, relationship, between, just...</td>\n",
       "      <td>185</td>\n",
       "      <td>110</td>\n",
       "      <td>0.594595</td>\n",
       "    </tr>\n",
       "    <tr>\n",
       "      <th>203</th>\n",
       "      <td>D</td>\n",
       "      <td>First of all, I love hearing from our young le...</td>\n",
       "      <td>[first, of, all, i, love, hearing, from, our, ...</td>\n",
       "      <td>57</td>\n",
       "      <td>37</td>\n",
       "      <td>0.649123</td>\n",
       "    </tr>\n",
       "    <tr>\n",
       "      <th>204</th>\n",
       "      <td>D</td>\n",
       "      <td>And brings me to Joe, Joe Biden. One of the re...</td>\n",
       "      <td>[and, brings, me, to, joe, joe, biden, one, of...</td>\n",
       "      <td>73</td>\n",
       "      <td>50</td>\n",
       "      <td>0.684932</td>\n",
       "    </tr>\n",
       "    <tr>\n",
       "      <th>205</th>\n",
       "      <td>D</td>\n",
       "      <td>Joe has a longstanding reputation of working a...</td>\n",
       "      <td>[joe, has, a, longstanding, reputation, of, wo...</td>\n",
       "      <td>61</td>\n",
       "      <td>42</td>\n",
       "      <td>0.688525</td>\n",
       "    </tr>\n",
       "    <tr>\n",
       "      <th>206</th>\n",
       "      <td>D</td>\n",
       "      <td>Brecklin, when you think about the future, I d...</td>\n",
       "      <td>[brecklin, when, you, think, about, the, futur...</td>\n",
       "      <td>69</td>\n",
       "      <td>46</td>\n",
       "      <td>0.666667</td>\n",
       "    </tr>\n",
       "  </tbody>\n",
       "</table>\n",
       "<p>207 rows × 6 columns</p>\n",
       "</div>"
      ],
      "text/plain": [
       "    Aff                                         transcript  \\\n",
       "0     D  Thank you, Susan. Well, the American people ha...   \n",
       "1     D  Can you imagine if you knew on January 28th, a...   \n",
       "2     D               … right to reelection based on this.   \n",
       "3     R  Susan, thank you. And I want to thank the Comm...   \n",
       "4     R  And I believe it saved hundreds of thousands o...   \n",
       "..   ..                                                ...   \n",
       "202   R  I look at the relationship between Justice Rut...   \n",
       "203   D  First of all, I love hearing from our young le...   \n",
       "204   D  And brings me to Joe, Joe Biden. One of the re...   \n",
       "205   D  Joe has a longstanding reputation of working a...   \n",
       "206   D  Brecklin, when you think about the future, I d...   \n",
       "\n",
       "                                                  Toks  Token_count  \\\n",
       "0    [thank, you, susan, well, the, american, peopl...          146   \n",
       "1    [can, you, imagine, if, you, knew, on, january...          177   \n",
       "2             [right, to, reelection, based, on, this]            6   \n",
       "3    [susan, thank, you, and, i, want, to, thank, t...          163   \n",
       "4    [and, i, believe, it, saved, hundreds, of, tho...          198   \n",
       "..                                                 ...          ...   \n",
       "202  [i, look, at, the, relationship, between, just...          185   \n",
       "203  [first, of, all, i, love, hearing, from, our, ...           57   \n",
       "204  [and, brings, me, to, joe, joe, biden, one, of...           73   \n",
       "205  [joe, has, a, longstanding, reputation, of, wo...           61   \n",
       "206  [brecklin, when, you, think, about, the, futur...           69   \n",
       "\n",
       "     Type_count       TTR  \n",
       "0            87  0.595890  \n",
       "1            87  0.491525  \n",
       "2             6  1.000000  \n",
       "3           108  0.662577  \n",
       "4           118  0.595960  \n",
       "..          ...       ...  \n",
       "202         110  0.594595  \n",
       "203          37  0.649123  \n",
       "204          50  0.684932  \n",
       "205          42  0.688525  \n",
       "206          46  0.666667  \n",
       "\n",
       "[207 rows x 6 columns]"
      ]
     },
     "execution_count": 315,
     "metadata": {},
     "output_type": "execute_result"
    }
   ],
   "source": [
    "vpdebate"
   ]
  },
  {
   "cell_type": "code",
   "execution_count": null,
   "metadata": {},
   "outputs": [],
   "source": []
  }
 ],
 "metadata": {
  "kernelspec": {
   "display_name": "Python 3",
   "language": "python",
   "name": "python3"
  },
  "language_info": {
   "codemirror_mode": {
    "name": "ipython",
    "version": 3
   },
   "file_extension": ".py",
   "mimetype": "text/x-python",
   "name": "python",
   "nbconvert_exporter": "python",
   "pygments_lexer": "ipython3",
   "version": "3.8.5"
  }
 },
 "nbformat": 4,
 "nbformat_minor": 4
}
