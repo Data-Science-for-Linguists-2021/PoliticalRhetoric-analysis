{
 "cells": [
  {
   "cell_type": "markdown",
   "metadata": {},
   "source": [
    "## Part 3: Party Platform Analysis\n",
    "* Party Platforms are created with the intent to inform and persuade people to register/follow their party. \n",
    "    * The audience is the most general of the other examples in this project. \n",
    "* Like the other analyses, this will consider the top features and significant word choice of the platforms."
   ]
  },
  {
   "cell_type": "code",
   "execution_count": 29,
   "metadata": {},
   "outputs": [],
   "source": [
    "import pandas as pd\n",
    "import nltk\n",
    "import sklearn\n",
    "import numpy as np\n",
    "from sklearn.feature_extraction.text import CountVectorizer\n",
    "from sklearn.feature_extraction.text import TfidfVectorizer\n",
    "from sklearn.naive_bayes import MultinomialNB\n",
    "from sklearn.metrics import accuracy_score\n",
    "from sklearn.metrics import confusion_matrix\n",
    "import seaborn as sns        # seaborn graphical package\n",
    "sns.set_style('darkgrid')\n",
    "import matplotlib.pyplot as plt"
   ]
  },
  {
   "cell_type": "code",
   "execution_count": 30,
   "metadata": {},
   "outputs": [
    {
     "data": {
      "text/html": [
       "<div>\n",
       "<style scoped>\n",
       "    .dataframe tbody tr th:only-of-type {\n",
       "        vertical-align: middle;\n",
       "    }\n",
       "\n",
       "    .dataframe tbody tr th {\n",
       "        vertical-align: top;\n",
       "    }\n",
       "\n",
       "    .dataframe thead th {\n",
       "        text-align: right;\n",
       "    }\n",
       "</style>\n",
       "<table border=\"1\" class=\"dataframe\">\n",
       "  <thead>\n",
       "    <tr style=\"text-align: right;\">\n",
       "      <th></th>\n",
       "      <th>Aff</th>\n",
       "      <th>sentences</th>\n",
       "    </tr>\n",
       "  </thead>\n",
       "  <tbody>\n",
       "    <tr>\n",
       "      <th>0</th>\n",
       "      <td>R</td>\n",
       "      <td>We dedicate this platform with admiration and ...</td>\n",
       "    </tr>\n",
       "    <tr>\n",
       "      <th>1</th>\n",
       "      <td>R</td>\n",
       "      <td>Preamble\\nWith this platform, we the Republica...</td>\n",
       "    </tr>\n",
       "    <tr>\n",
       "      <th>2</th>\n",
       "      <td>R</td>\n",
       "      <td>We believe in American exceptionalism.</td>\n",
       "    </tr>\n",
       "    <tr>\n",
       "      <th>3</th>\n",
       "      <td>R</td>\n",
       "      <td>We believe the United States of America is unl...</td>\n",
       "    </tr>\n",
       "    <tr>\n",
       "      <th>4</th>\n",
       "      <td>R</td>\n",
       "      <td>We believe America is exceptional because of o...</td>\n",
       "    </tr>\n",
       "    <tr>\n",
       "      <th>...</th>\n",
       "      <td>...</td>\n",
       "      <td>...</td>\n",
       "    </tr>\n",
       "    <tr>\n",
       "      <th>3103</th>\n",
       "      <td>D</td>\n",
       "      <td>Democrats will continue to stand against incit...</td>\n",
       "    </tr>\n",
       "    <tr>\n",
       "      <th>3104</th>\n",
       "      <td>D</td>\n",
       "      <td>We oppose settlement expansion.</td>\n",
       "    </tr>\n",
       "    <tr>\n",
       "      <th>3105</th>\n",
       "      <td>D</td>\n",
       "      <td>We believe that while Jerusalem is a matter fo...</td>\n",
       "    </tr>\n",
       "    <tr>\n",
       "      <th>3106</th>\n",
       "      <td>D</td>\n",
       "      <td>Democrats will restore U.S.-Palestinian diplom...</td>\n",
       "    </tr>\n",
       "    <tr>\n",
       "      <th>3107</th>\n",
       "      <td>D</td>\n",
       "      <td>We oppose any effort to unfairly single out an...</td>\n",
       "    </tr>\n",
       "  </tbody>\n",
       "</table>\n",
       "<p>3108 rows × 2 columns</p>\n",
       "</div>"
      ],
      "text/plain": [
       "     Aff                                          sentences\n",
       "0      R  We dedicate this platform with admiration and ...\n",
       "1      R  Preamble\\nWith this platform, we the Republica...\n",
       "2      R             We believe in American exceptionalism.\n",
       "3      R  We believe the United States of America is unl...\n",
       "4      R  We believe America is exceptional because of o...\n",
       "...   ..                                                ...\n",
       "3103   D  Democrats will continue to stand against incit...\n",
       "3104   D                    We oppose settlement expansion.\n",
       "3105   D  We believe that while Jerusalem is a matter fo...\n",
       "3106   D  Democrats will restore U.S.-Palestinian diplom...\n",
       "3107   D  We oppose any effort to unfairly single out an...\n",
       "\n",
       "[3108 rows x 2 columns]"
      ]
     },
     "execution_count": 30,
     "metadata": {},
     "output_type": "execute_result"
    }
   ],
   "source": [
    "platform = pd.read_csv('/Users/emmatarcson/Documents/data_science/RhetoricalFactor-analysis/data2/platformsents.csv')\n",
    "platform[['Aff','sentences']]"
   ]
  },
  {
   "cell_type": "markdown",
   "metadata": {},
   "source": [
    "Will have to strip 'Democrat' and 'Republican' from the sentences..."
   ]
  },
  {
   "cell_type": "code",
   "execution_count": 31,
   "metadata": {},
   "outputs": [],
   "source": [
    "banned = ['Republican', 'Democrat', 'Republicans', 'Democrats']\n",
    "f = lambda x: ' '.join([item for item in x.split() if item not in banned])\n",
    "platform[\"sentences2\"] = platform[\"sentences\"].apply(f)"
   ]
  },
  {
   "cell_type": "code",
   "execution_count": 32,
   "metadata": {},
   "outputs": [
    {
     "data": {
      "text/html": [
       "<div>\n",
       "<style scoped>\n",
       "    .dataframe tbody tr th:only-of-type {\n",
       "        vertical-align: middle;\n",
       "    }\n",
       "\n",
       "    .dataframe tbody tr th {\n",
       "        vertical-align: top;\n",
       "    }\n",
       "\n",
       "    .dataframe thead th {\n",
       "        text-align: right;\n",
       "    }\n",
       "</style>\n",
       "<table border=\"1\" class=\"dataframe\">\n",
       "  <thead>\n",
       "    <tr style=\"text-align: right;\">\n",
       "      <th></th>\n",
       "      <th>Unnamed: 0</th>\n",
       "      <th>Speakers</th>\n",
       "      <th>Aff</th>\n",
       "      <th>sentences</th>\n",
       "      <th>sentences2</th>\n",
       "    </tr>\n",
       "  </thead>\n",
       "  <tbody>\n",
       "    <tr>\n",
       "      <th>0</th>\n",
       "      <td>0</td>\n",
       "      <td>Republican Party Platform</td>\n",
       "      <td>R</td>\n",
       "      <td>We dedicate this platform with admiration and ...</td>\n",
       "      <td>We dedicate this platform with admiration and ...</td>\n",
       "    </tr>\n",
       "    <tr>\n",
       "      <th>1</th>\n",
       "      <td>1</td>\n",
       "      <td>Republican Party Platform</td>\n",
       "      <td>R</td>\n",
       "      <td>Preamble\\nWith this platform, we the Republica...</td>\n",
       "      <td>Preamble With this platform, we the Party reaf...</td>\n",
       "    </tr>\n",
       "    <tr>\n",
       "      <th>2</th>\n",
       "      <td>2</td>\n",
       "      <td>Republican Party Platform</td>\n",
       "      <td>R</td>\n",
       "      <td>We believe in American exceptionalism.</td>\n",
       "      <td>We believe in American exceptionalism.</td>\n",
       "    </tr>\n",
       "    <tr>\n",
       "      <th>3</th>\n",
       "      <td>3</td>\n",
       "      <td>Republican Party Platform</td>\n",
       "      <td>R</td>\n",
       "      <td>We believe the United States of America is unl...</td>\n",
       "      <td>We believe the United States of America is unl...</td>\n",
       "    </tr>\n",
       "    <tr>\n",
       "      <th>4</th>\n",
       "      <td>4</td>\n",
       "      <td>Republican Party Platform</td>\n",
       "      <td>R</td>\n",
       "      <td>We believe America is exceptional because of o...</td>\n",
       "      <td>We believe America is exceptional because of o...</td>\n",
       "    </tr>\n",
       "    <tr>\n",
       "      <th>...</th>\n",
       "      <td>...</td>\n",
       "      <td>...</td>\n",
       "      <td>...</td>\n",
       "      <td>...</td>\n",
       "      <td>...</td>\n",
       "    </tr>\n",
       "    <tr>\n",
       "      <th>3103</th>\n",
       "      <td>1522</td>\n",
       "      <td>Democratic Party Platform</td>\n",
       "      <td>D</td>\n",
       "      <td>Democrats will continue to stand against incit...</td>\n",
       "      <td>will continue to stand against incitement and ...</td>\n",
       "    </tr>\n",
       "    <tr>\n",
       "      <th>3104</th>\n",
       "      <td>1523</td>\n",
       "      <td>Democratic Party Platform</td>\n",
       "      <td>D</td>\n",
       "      <td>We oppose settlement expansion.</td>\n",
       "      <td>We oppose settlement expansion.</td>\n",
       "    </tr>\n",
       "    <tr>\n",
       "      <th>3105</th>\n",
       "      <td>1524</td>\n",
       "      <td>Democratic Party Platform</td>\n",
       "      <td>D</td>\n",
       "      <td>We believe that while Jerusalem is a matter fo...</td>\n",
       "      <td>We believe that while Jerusalem is a matter fo...</td>\n",
       "    </tr>\n",
       "    <tr>\n",
       "      <th>3106</th>\n",
       "      <td>1525</td>\n",
       "      <td>Democratic Party Platform</td>\n",
       "      <td>D</td>\n",
       "      <td>Democrats will restore U.S.-Palestinian diplom...</td>\n",
       "      <td>will restore U.S.-Palestinian diplomatic ties ...</td>\n",
       "    </tr>\n",
       "    <tr>\n",
       "      <th>3107</th>\n",
       "      <td>1526</td>\n",
       "      <td>Democratic Party Platform</td>\n",
       "      <td>D</td>\n",
       "      <td>We oppose any effort to unfairly single out an...</td>\n",
       "      <td>We oppose any effort to unfairly single out an...</td>\n",
       "    </tr>\n",
       "  </tbody>\n",
       "</table>\n",
       "<p>3108 rows × 5 columns</p>\n",
       "</div>"
      ],
      "text/plain": [
       "      Unnamed: 0                   Speakers Aff  \\\n",
       "0              0  Republican Party Platform   R   \n",
       "1              1  Republican Party Platform   R   \n",
       "2              2  Republican Party Platform   R   \n",
       "3              3  Republican Party Platform   R   \n",
       "4              4  Republican Party Platform   R   \n",
       "...          ...                        ...  ..   \n",
       "3103        1522  Democratic Party Platform   D   \n",
       "3104        1523  Democratic Party Platform   D   \n",
       "3105        1524  Democratic Party Platform   D   \n",
       "3106        1525  Democratic Party Platform   D   \n",
       "3107        1526  Democratic Party Platform   D   \n",
       "\n",
       "                                              sentences  \\\n",
       "0     We dedicate this platform with admiration and ...   \n",
       "1     Preamble\\nWith this platform, we the Republica...   \n",
       "2                We believe in American exceptionalism.   \n",
       "3     We believe the United States of America is unl...   \n",
       "4     We believe America is exceptional because of o...   \n",
       "...                                                 ...   \n",
       "3103  Democrats will continue to stand against incit...   \n",
       "3104                    We oppose settlement expansion.   \n",
       "3105  We believe that while Jerusalem is a matter fo...   \n",
       "3106  Democrats will restore U.S.-Palestinian diplom...   \n",
       "3107  We oppose any effort to unfairly single out an...   \n",
       "\n",
       "                                             sentences2  \n",
       "0     We dedicate this platform with admiration and ...  \n",
       "1     Preamble With this platform, we the Party reaf...  \n",
       "2                We believe in American exceptionalism.  \n",
       "3     We believe the United States of America is unl...  \n",
       "4     We believe America is exceptional because of o...  \n",
       "...                                                 ...  \n",
       "3103  will continue to stand against incitement and ...  \n",
       "3104                    We oppose settlement expansion.  \n",
       "3105  We believe that while Jerusalem is a matter fo...  \n",
       "3106  will restore U.S.-Palestinian diplomatic ties ...  \n",
       "3107  We oppose any effort to unfairly single out an...  \n",
       "\n",
       "[3108 rows x 5 columns]"
      ]
     },
     "execution_count": 32,
     "metadata": {},
     "output_type": "execute_result"
    }
   ],
   "source": [
    "platform"
   ]
  },
  {
   "cell_type": "code",
   "execution_count": 33,
   "metadata": {},
   "outputs": [
    {
     "data": {
      "text/plain": [
       "R    1581\n",
       "D    1527\n",
       "Name: Aff, dtype: int64"
      ]
     },
     "execution_count": 33,
     "metadata": {},
     "output_type": "execute_result"
    }
   ],
   "source": [
    "platform.Aff.value_counts() #that's not too bad"
   ]
  },
  {
   "cell_type": "code",
   "execution_count": 34,
   "metadata": {},
   "outputs": [
    {
     "data": {
      "text/plain": [
       "0.8070739549839229"
      ]
     },
     "execution_count": 34,
     "metadata": {},
     "output_type": "execute_result"
    }
   ],
   "source": [
    "from sklearn.model_selection import train_test_split\n",
    "X_train, X_test, y_train, y_test = train_test_split(platform['sentences2'], platform['Aff'], random_state=0,\n",
    "                                  train_size=0.6) \n",
    "\n",
    "vectorizer = TfidfVectorizer(min_df=1, max_features=4000, stop_words='english')\n",
    "\n",
    "X_text_train = vectorizer.fit_transform(X_train)\n",
    "X_text_test = vectorizer.transform(X_test)\n",
    "\n",
    "from sklearn.svm import SVC \n",
    "svcmodel = SVC(kernel='linear', C=1E5)  \n",
    "svcmodel.fit(X_text_train, y_train)\n",
    "pred = svcmodel.predict(X_text_test)\n",
    "accuracy_score(y_test, pred)"
   ]
  },
  {
   "cell_type": "markdown",
   "metadata": {},
   "source": [
    "The party platform most likely includes a lot of straight forward words that become important for classifying between the two parties. "
   ]
  },
  {
   "cell_type": "code",
   "execution_count": 35,
   "metadata": {},
   "outputs": [],
   "source": [
    "# i'm adding a random neutral row, because that'll let me see features..."
   ]
  },
  {
   "cell_type": "code",
   "execution_count": 36,
   "metadata": {},
   "outputs": [
    {
     "data": {
      "text/html": [
       "<div>\n",
       "<style scoped>\n",
       "    .dataframe tbody tr th:only-of-type {\n",
       "        vertical-align: middle;\n",
       "    }\n",
       "\n",
       "    .dataframe tbody tr th {\n",
       "        vertical-align: top;\n",
       "    }\n",
       "\n",
       "    .dataframe thead th {\n",
       "        text-align: right;\n",
       "    }\n",
       "</style>\n",
       "<table border=\"1\" class=\"dataframe\">\n",
       "  <thead>\n",
       "    <tr style=\"text-align: right;\">\n",
       "      <th></th>\n",
       "      <th>Aff</th>\n",
       "      <th>sentences2</th>\n",
       "    </tr>\n",
       "  </thead>\n",
       "  <tbody>\n",
       "    <tr>\n",
       "      <th>3104</th>\n",
       "      <td>D</td>\n",
       "      <td>We oppose settlement expansion.</td>\n",
       "    </tr>\n",
       "    <tr>\n",
       "      <th>3105</th>\n",
       "      <td>D</td>\n",
       "      <td>We believe that while Jerusalem is a matter fo...</td>\n",
       "    </tr>\n",
       "    <tr>\n",
       "      <th>3106</th>\n",
       "      <td>D</td>\n",
       "      <td>will restore U.S.-Palestinian diplomatic ties ...</td>\n",
       "    </tr>\n",
       "    <tr>\n",
       "      <th>3107</th>\n",
       "      <td>D</td>\n",
       "      <td>We oppose any effort to unfairly single out an...</td>\n",
       "    </tr>\n",
       "    <tr>\n",
       "      <th>1</th>\n",
       "      <td>None</td>\n",
       "      <td>Yo</td>\n",
       "    </tr>\n",
       "  </tbody>\n",
       "</table>\n",
       "</div>"
      ],
      "text/plain": [
       "       Aff                                         sentences2\n",
       "3104     D                    We oppose settlement expansion.\n",
       "3105     D  We believe that while Jerusalem is a matter fo...\n",
       "3106     D  will restore U.S.-Palestinian diplomatic ties ...\n",
       "3107     D  We oppose any effort to unfairly single out an...\n",
       "1     None                                                 Yo"
      ]
     },
     "execution_count": 36,
     "metadata": {},
     "output_type": "execute_result"
    }
   ],
   "source": [
    "neutral = pd.DataFrame({'Aff' : 'None', 'sentences2': 'Yo'}, index=[1])\n",
    "platform2 = platform[['Aff', 'sentences2']]\n",
    "platform2 = pd.concat([platform2, neutral])\n",
    "platform2.tail()"
   ]
  },
  {
   "cell_type": "code",
   "execution_count": 37,
   "metadata": {},
   "outputs": [
    {
     "data": {
      "text/plain": [
       "0.795016077170418"
      ]
     },
     "execution_count": 37,
     "metadata": {},
     "output_type": "execute_result"
    }
   ],
   "source": [
    "X_train, X_test, y_train, y_test = train_test_split(platform2['sentences2'], platform2['Aff'], random_state=0,\n",
    "                                  train_size=0.6)\n",
    "nbmodel = MultinomialNB()\n",
    "vectorizer = TfidfVectorizer(max_df=0.5, min_df=2,max_features=1500, stop_words='english') #using this to find vocab\n",
    "X_text_train = vectorizer.fit_transform(X_train)\n",
    "X_text_test = vectorizer.transform(X_test)\n",
    "\n",
    "\n",
    "nbmodel.fit(X_text_train, y_train)\n",
    "pred = nbmodel.predict(X_text_test)\n",
    "accuracy_score(y_test, pred)"
   ]
  },
  {
   "cell_type": "code",
   "execution_count": 38,
   "metadata": {},
   "outputs": [
    {
     "data": {
      "text/plain": [
       "array(['D', 'None', 'R'], dtype='<U4')"
      ]
     },
     "execution_count": 38,
     "metadata": {},
     "output_type": "execute_result"
    }
   ],
   "source": [
    "nbmodel.classes_"
   ]
  },
  {
   "cell_type": "code",
   "execution_count": 40,
   "metadata": {},
   "outputs": [
    {
     "name": "stdout",
     "output_type": "stream",
     "text": [
      "D: efforts, security, color, justice, new, community, clean, disabilities, income, energy, jobs, economic, school, funding, women, country, expand, families, end, education, 19, covid, climate, economy, president, global, housing, protect, act, help, affordable, make, increase, america, programs, schools, administration, students, united, pandemic, use, communities, access, states, rights, work, world, federal, public, ensure, americans, workers, trump, care, including, people, support, believe, american, health\n",
      "None: example, fear, favored, faster, farmworkers, farms, farmers, farm, far, family, families, fda, employers, evidence, europe, ensure, enormous, enhance, english, engage, enforcing, enforcement, enforce, energy, ending, ended, endangered, end, encourage, enacting, enacted, enact, enable, empower, ensures, ensuring, enter, enterprise, ethnic, established, establish, essential, especially, erosion, era, equity, equitable, european, equipment, equality, equal, epa, environmental, environment, entry, entrepreneurship, entities, entire, equally, zero\n",
      "R: life, internet, business, families, approach, defense, control, legislation, best, laws, power, years, citizens, encourage, free, policies, act, based, care, constitution, foreign, constitutional, education, nation, new, security, amendment, economy, growth, human, party, military, right, urge, religious, private, americans, freedom, economic, united, world, tax, public, law, national, president, administration, state, current, oppose, rights, support, america, country, people, states, congress, american, federal, government\n"
     ]
    }
   ],
   "source": [
    "def print_top(vectorizer, clf, class_labels, n):\n",
    "    \"\"\"Prints features with the highest coefficient values, per class\"\"\"\n",
    "    feature_names = vectorizer.get_feature_names()\n",
    "    for i, class_label in enumerate(class_labels):\n",
    "        top = np.argsort(clf.coef_[i])[0-n:]\n",
    "        print(\"%s: %s\" % (class_label,\n",
    "              \", \".join(feature_names[j].replace(' ', '-') for j in top)))\n",
    "    \n",
    "\n",
    "print_top(vectorizer, nbmodel, nbmodel.classes_, 60)"
   ]
  },
  {
   "cell_type": "markdown",
   "metadata": {},
   "source": [
    "There's the features:\n",
    "\n",
    "D: efforts, security, color, justice, new, community, clean, disabilities, income, energy, jobs, economic, school, funding, women, country, expand, families, end, education, 19, covid, climate, economy, president, global, housing, protect, act, help, affordable, make, increase, america, programs, schools, administration, students, united, pandemic, use, communities, access, states, rights, work, world, federal, public, ensure, americans, workers, trump, care, including, people, support, believe, american, health\n",
    "\n",
    "R: life, internet, business, families, approach, defense, control, legislation, best, laws, power, years, citizens, encourage, free, policies, act, based, care, constitution, foreign, constitutional, education, nation, new, security, amendment, economy, growth, human, party, military, right, urge, religious, private, americans, freedom, economic, united, world, tax, public, law, national, president, administration, state, current, oppose, rights, support, america, country, people, states, congress, american, federal, government\n",
    "\n",
    "* wait now that I'm looking at this... there are definitely some words that I'd say are categorical into a certain viewpoint"
   ]
  },
  {
   "cell_type": "code",
   "execution_count": 26,
   "metadata": {},
   "outputs": [
    {
     "data": {
      "text/html": [
       "<div>\n",
       "<style scoped>\n",
       "    .dataframe tbody tr th:only-of-type {\n",
       "        vertical-align: middle;\n",
       "    }\n",
       "\n",
       "    .dataframe tbody tr th {\n",
       "        vertical-align: top;\n",
       "    }\n",
       "\n",
       "    .dataframe thead th {\n",
       "        text-align: right;\n",
       "    }\n",
       "</style>\n",
       "<table border=\"1\" class=\"dataframe\">\n",
       "  <thead>\n",
       "    <tr style=\"text-align: right;\">\n",
       "      <th></th>\n",
       "      <th>Unnamed: 0</th>\n",
       "      <th>Speakers</th>\n",
       "      <th>Aff</th>\n",
       "      <th>sentences</th>\n",
       "      <th>Sent_len</th>\n",
       "    </tr>\n",
       "  </thead>\n",
       "  <tbody>\n",
       "    <tr>\n",
       "      <th>0</th>\n",
       "      <td>0</td>\n",
       "      <td>Republican Party Platform</td>\n",
       "      <td>R</td>\n",
       "      <td>We dedicate this platform with admiration and ...</td>\n",
       "      <td>49</td>\n",
       "    </tr>\n",
       "    <tr>\n",
       "      <th>1</th>\n",
       "      <td>1</td>\n",
       "      <td>Republican Party Platform</td>\n",
       "      <td>R</td>\n",
       "      <td>Preamble\\nWith this platform, we the Republica...</td>\n",
       "      <td>17</td>\n",
       "    </tr>\n",
       "    <tr>\n",
       "      <th>2</th>\n",
       "      <td>2</td>\n",
       "      <td>Republican Party Platform</td>\n",
       "      <td>R</td>\n",
       "      <td>We believe in American exceptionalism.</td>\n",
       "      <td>5</td>\n",
       "    </tr>\n",
       "    <tr>\n",
       "      <th>3</th>\n",
       "      <td>3</td>\n",
       "      <td>Republican Party Platform</td>\n",
       "      <td>R</td>\n",
       "      <td>We believe the United States of America is unl...</td>\n",
       "      <td>14</td>\n",
       "    </tr>\n",
       "    <tr>\n",
       "      <th>4</th>\n",
       "      <td>4</td>\n",
       "      <td>Republican Party Platform</td>\n",
       "      <td>R</td>\n",
       "      <td>We believe America is exceptional because of o...</td>\n",
       "      <td>27</td>\n",
       "    </tr>\n",
       "  </tbody>\n",
       "</table>\n",
       "</div>"
      ],
      "text/plain": [
       "   Unnamed: 0                   Speakers Aff  \\\n",
       "0           0  Republican Party Platform   R   \n",
       "1           1  Republican Party Platform   R   \n",
       "2           2  Republican Party Platform   R   \n",
       "3           3  Republican Party Platform   R   \n",
       "4           4  Republican Party Platform   R   \n",
       "\n",
       "                                           sentences  Sent_len  \n",
       "0  We dedicate this platform with admiration and ...        49  \n",
       "1  Preamble\\nWith this platform, we the Republica...        17  \n",
       "2             We believe in American exceptionalism.         5  \n",
       "3  We believe the United States of America is unl...        14  \n",
       "4  We believe America is exceptional because of o...        27  "
      ]
     },
     "execution_count": 26,
     "metadata": {},
     "output_type": "execute_result"
    }
   ],
   "source": [
    "#import re\n",
    "#trans_toks = [nltk.word_tokenize(re.sub(r'[^\\w+ ]', '', t.lower())) for t in platform['sentences']]\n",
    "#trans_tok_lens = [len(t) for t in trans_toks]\n",
    "#trans_type_lens = [len(set(t)) for t in trans_toks]\n",
    "#TTR = [len(set(t))/len(t) for t in trans_toks]\n",
    "#platform['Sent_len'] = trans_tok_lens\n",
    "#platform['Type_count'] = trans_type_lens\n",
    "#conv_speeches['TTR'] = TTR\n",
    "#platform.head()"
   ]
  },
  {
   "cell_type": "code",
   "execution_count": null,
   "metadata": {},
   "outputs": [],
   "source": []
  }
 ],
 "metadata": {
  "kernelspec": {
   "display_name": "Python 3",
   "language": "python",
   "name": "python3"
  },
  "language_info": {
   "codemirror_mode": {
    "name": "ipython",
    "version": 3
   },
   "file_extension": ".py",
   "mimetype": "text/x-python",
   "name": "python",
   "nbconvert_exporter": "python",
   "pygments_lexer": "ipython3",
   "version": "3.8.5"
  }
 },
 "nbformat": 4,
 "nbformat_minor": 4
}
